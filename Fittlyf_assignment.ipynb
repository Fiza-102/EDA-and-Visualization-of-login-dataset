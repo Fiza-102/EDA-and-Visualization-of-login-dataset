{
 "cells": [
  {
   "cell_type": "markdown",
   "id": "ebd29ce3",
   "metadata": {},
   "source": [
    "# import necessary libraries "
   ]
  },
  {
   "cell_type": "code",
   "execution_count": 5,
   "id": "e223d987",
   "metadata": {},
   "outputs": [],
   "source": [
    "import pandas as pd\n",
    "import numpy as np\n",
    "import matplotlib.pyplot as plt\n",
    "import seaborn as sns\n"
   ]
  },
  {
   "cell_type": "code",
   "execution_count": 6,
   "id": "f5458d8a",
   "metadata": {},
   "outputs": [],
   "source": [
    "from sklearn.model_selection  import train_test_split"
   ]
  },
  {
   "cell_type": "code",
   "execution_count": 7,
   "id": "89d29710",
   "metadata": {},
   "outputs": [],
   "source": [
    "from sklearn.linear_model import LinearRegression\n",
    "from sklearn.metrics import r2_score"
   ]
  },
  {
   "cell_type": "markdown",
   "id": "38bd849a",
   "metadata": {},
   "source": [
    "# 0 :  READING THE DATA"
   ]
  },
  {
   "cell_type": "code",
   "execution_count": 8,
   "id": "88365a5c",
   "metadata": {},
   "outputs": [],
   "source": [
    "data=pd.read_csv('Fytlyff_DS_Interview.csv')        # reading the .csv file "
   ]
  },
  {
   "cell_type": "markdown",
   "id": "6dbaa4df",
   "metadata": {},
   "source": [
    "this returns the top 5 rows of the dataframe"
   ]
  },
  {
   "cell_type": "code",
   "execution_count": 9,
   "id": "471251ce",
   "metadata": {},
   "outputs": [
    {
     "data": {
      "text/html": [
       "<div>\n",
       "<style scoped>\n",
       "    .dataframe tbody tr th:only-of-type {\n",
       "        vertical-align: middle;\n",
       "    }\n",
       "\n",
       "    .dataframe tbody tr th {\n",
       "        vertical-align: top;\n",
       "    }\n",
       "\n",
       "    .dataframe thead th {\n",
       "        text-align: right;\n",
       "    }\n",
       "</style>\n",
       "<table border=\"1\" class=\"dataframe\">\n",
       "  <thead>\n",
       "    <tr style=\"text-align: right;\">\n",
       "      <th></th>\n",
       "      <th>Year</th>\n",
       "      <th>Month</th>\n",
       "      <th>MobileWeb_or_Web</th>\n",
       "      <th>Type_of_Customers?</th>\n",
       "      <th>Where_Are_They_comming_from?</th>\n",
       "      <th>Which_Place_in_India?</th>\n",
       "      <th>How_many_Landed_on_our_Page?</th>\n",
       "      <th>How_many_Landed_on_the_our_Page_and_clicked_on_a_button?</th>\n",
       "      <th>How_many_Landed_on_the_our_Page_and_clicked_on_a_button_and_started_filling_the_Form?</th>\n",
       "      <th>How_many_Landed_on_the_our_Page_and_clicked_on_a_button_and_started_filling_the_Form_and_Completed_and_submited_the_form?</th>\n",
       "    </tr>\n",
       "  </thead>\n",
       "  <tbody>\n",
       "    <tr>\n",
       "      <th>0</th>\n",
       "      <td>2019</td>\n",
       "      <td>Jan</td>\n",
       "      <td>Desktop_Website</td>\n",
       "      <td>Existing_Customer</td>\n",
       "      <td>Came_From_Google</td>\n",
       "      <td>Bangalore</td>\n",
       "      <td>NaN</td>\n",
       "      <td>NaN</td>\n",
       "      <td>56892</td>\n",
       "      <td>17178</td>\n",
       "    </tr>\n",
       "    <tr>\n",
       "      <th>1</th>\n",
       "      <td>2019</td>\n",
       "      <td>Jan</td>\n",
       "      <td>Desktop_Website</td>\n",
       "      <td>Existing_Customer</td>\n",
       "      <td>Came_From_Google</td>\n",
       "      <td>Chennai</td>\n",
       "      <td>NaN</td>\n",
       "      <td>NaN</td>\n",
       "      <td>41460</td>\n",
       "      <td>11916</td>\n",
       "    </tr>\n",
       "    <tr>\n",
       "      <th>2</th>\n",
       "      <td>2019</td>\n",
       "      <td>Jan</td>\n",
       "      <td>Desktop_Website</td>\n",
       "      <td>Existing_Customer</td>\n",
       "      <td>Came_From_Google</td>\n",
       "      <td>Dehradun</td>\n",
       "      <td>NaN</td>\n",
       "      <td>NaN</td>\n",
       "      <td>55561</td>\n",
       "      <td>19461</td>\n",
       "    </tr>\n",
       "    <tr>\n",
       "      <th>3</th>\n",
       "      <td>2019</td>\n",
       "      <td>Jan</td>\n",
       "      <td>Desktop_Website</td>\n",
       "      <td>Existing_Customer</td>\n",
       "      <td>Came_From_Google</td>\n",
       "      <td>Indore</td>\n",
       "      <td>NaN</td>\n",
       "      <td>NaN</td>\n",
       "      <td>320923</td>\n",
       "      <td>110667</td>\n",
       "    </tr>\n",
       "    <tr>\n",
       "      <th>4</th>\n",
       "      <td>2019</td>\n",
       "      <td>Jan</td>\n",
       "      <td>Desktop_Website</td>\n",
       "      <td>Existing_Customer</td>\n",
       "      <td>Came_From_Google</td>\n",
       "      <td>Pune</td>\n",
       "      <td>NaN</td>\n",
       "      <td>NaN</td>\n",
       "      <td>220937</td>\n",
       "      <td>46033</td>\n",
       "    </tr>\n",
       "  </tbody>\n",
       "</table>\n",
       "</div>"
      ],
      "text/plain": [
       "   Year Month MobileWeb_or_Web Type_of_Customers?  \\\n",
       "0  2019   Jan  Desktop_Website  Existing_Customer   \n",
       "1  2019   Jan  Desktop_Website  Existing_Customer   \n",
       "2  2019   Jan  Desktop_Website  Existing_Customer   \n",
       "3  2019   Jan  Desktop_Website  Existing_Customer   \n",
       "4  2019   Jan  Desktop_Website  Existing_Customer   \n",
       "\n",
       "  Where_Are_They_comming_from? Which_Place_in_India?  \\\n",
       "0             Came_From_Google             Bangalore   \n",
       "1             Came_From_Google               Chennai   \n",
       "2             Came_From_Google              Dehradun   \n",
       "3             Came_From_Google                Indore   \n",
       "4             Came_From_Google                  Pune   \n",
       "\n",
       "   How_many_Landed_on_our_Page?  \\\n",
       "0                           NaN   \n",
       "1                           NaN   \n",
       "2                           NaN   \n",
       "3                           NaN   \n",
       "4                           NaN   \n",
       "\n",
       "   How_many_Landed_on_the_our_Page_and_clicked_on_a_button?  \\\n",
       "0                                                NaN          \n",
       "1                                                NaN          \n",
       "2                                                NaN          \n",
       "3                                                NaN          \n",
       "4                                                NaN          \n",
       "\n",
       "   How_many_Landed_on_the_our_Page_and_clicked_on_a_button_and_started_filling_the_Form?  \\\n",
       "0                                              56892                                       \n",
       "1                                              41460                                       \n",
       "2                                              55561                                       \n",
       "3                                             320923                                       \n",
       "4                                             220937                                       \n",
       "\n",
       "   How_many_Landed_on_the_our_Page_and_clicked_on_a_button_and_started_filling_the_Form_and_Completed_and_submited_the_form?  \n",
       "0                                              17178                                                                          \n",
       "1                                              11916                                                                          \n",
       "2                                              19461                                                                          \n",
       "3                                             110667                                                                          \n",
       "4                                              46033                                                                          "
      ]
     },
     "execution_count": 9,
     "metadata": {},
     "output_type": "execute_result"
    }
   ],
   "source": [
    "data.head()         # .head() gives the top 5 rows of dataset by default"
   ]
  },
  {
   "cell_type": "code",
   "execution_count": 10,
   "id": "b08eab07",
   "metadata": {},
   "outputs": [],
   "source": [
    "#data.isnull().sum()"
   ]
  },
  {
   "cell_type": "markdown",
   "id": "ee8865ba",
   "metadata": {},
   "source": [
    "# column names"
   ]
  },
  {
   "cell_type": "code",
   "execution_count": 11,
   "id": "d1839e53",
   "metadata": {},
   "outputs": [
    {
     "data": {
      "text/plain": [
       "Index(['Year', 'Month', 'MobileWeb_or_Web', 'Type_of_Customers?',\n",
       "       'Where_Are_They_comming_from?', 'Which_Place_in_India?',\n",
       "       'How_many_Landed_on_our_Page?',\n",
       "       'How_many_Landed_on_the_our_Page_and_clicked_on_a_button?',\n",
       "       'How_many_Landed_on_the_our_Page_and_clicked_on_a_button_and_started_filling_the_Form?',\n",
       "       'How_many_Landed_on_the_our_Page_and_clicked_on_a_button_and_started_filling_the_Form_and_Completed_and_submited_the_form?'],\n",
       "      dtype='object')"
      ]
     },
     "execution_count": 11,
     "metadata": {},
     "output_type": "execute_result"
    }
   ],
   "source": [
    "data.columns                       #.columns to get column names in data"
   ]
  },
  {
   "cell_type": "markdown",
   "id": "5399a52a",
   "metadata": {},
   "source": [
    "# Datatypes of given columns"
   ]
  },
  {
   "cell_type": "code",
   "execution_count": 71,
   "id": "bbf3a824",
   "metadata": {},
   "outputs": [
    {
     "name": "stdout",
     "output_type": "stream",
     "text": [
      "Year                                                                                                                           int64\n",
      "Month                                                                                                                          int64\n",
      "MobileWeb_or_Web                                                                                                              object\n",
      "Type_of_Customers?                                                                                                            object\n",
      "Where_Are_They_comming_from?                                                                                                  object\n",
      "Which_Place_in_India?                                                                                                         object\n",
      "How_many_Landed_on_our_Page?                                                                                                 float64\n",
      "How_many_Landed_on_the_our_Page_and_clicked_on_a_button?                                                                     float64\n",
      "How_many_Landed_on_the_our_Page_and_clicked_on_a_button_and_started_filling_the_Form?                                          int64\n",
      "How_many_Landed_on_the_our_Page_and_clicked_on_a_button_and_started_filling_the_Form_and_Completed_and_submited_the_form?      int64\n",
      "div_data                                                                                                                     float64\n",
      "dtype: object\n"
     ]
    }
   ],
   "source": [
    "data.dtypes                 #"
   ]
  },
  {
   "cell_type": "markdown",
   "id": "515ad3f9",
   "metadata": {},
   "source": [
    "# Part 1 : DATA CLEANING "
   ]
  },
  {
   "cell_type": "markdown",
   "id": "e8f51e0b",
   "metadata": {},
   "source": [
    "i) Replaces the NA values with 0s in the data\n",
    "\n",
    "ii) In column ‘B’ replace Jan with 1, feb with 2, march with 3 and so on…\n",
    "\n",
    "iii) In column ‘E’ Replace “Came_From_Google” with “Google” and “Landed_on_the_page_Directly” with “Direct_traffic” \n"
   ]
  },
  {
   "cell_type": "code",
   "execution_count": 13,
   "id": "f57dd35f",
   "metadata": {
    "scrolled": true
   },
   "outputs": [
    {
     "data": {
      "text/plain": [
       "Year                                                                                                                            0\n",
       "Month                                                                                                                           0\n",
       "MobileWeb_or_Web                                                                                                                0\n",
       "Type_of_Customers?                                                                                                              0\n",
       "Where_Are_They_comming_from?                                                                                                    0\n",
       "Which_Place_in_India?                                                                                                           0\n",
       "How_many_Landed_on_our_Page?                                                                                                 1080\n",
       "How_many_Landed_on_the_our_Page_and_clicked_on_a_button?                                                                     1080\n",
       "How_many_Landed_on_the_our_Page_and_clicked_on_a_button_and_started_filling_the_Form?                                           0\n",
       "How_many_Landed_on_the_our_Page_and_clicked_on_a_button_and_started_filling_the_Form_and_Completed_and_submited_the_form?       0\n",
       "dtype: int64"
      ]
     },
     "execution_count": 13,
     "metadata": {},
     "output_type": "execute_result"
    }
   ],
   "source": [
    "# firstly we will check how many columns have null values and its count\n",
    "data.isnull().sum()"
   ]
  },
  {
   "cell_type": "code",
   "execution_count": 14,
   "id": "b9dc5655",
   "metadata": {},
   "outputs": [],
   "source": [
    "from time import strptime  # to convert month name to numeric value"
   ]
  },
  {
   "cell_type": "markdown",
   "id": "de7a464b",
   "metadata": {},
   "source": [
    "defining a function"
   ]
  },
  {
   "cell_type": "code",
   "execution_count": 15,
   "id": "5303a1b5",
   "metadata": {},
   "outputs": [],
   "source": [
    "def data_cleaning(col):\n",
    "    data.fillna(0,inplace=True)       # replacing na values with o\n",
    "    if i=='Month':\n",
    "       data['Month'] = [strptime(str(x), '%b').tm_mon for x in data['Month']]   # converting month name with numeric digit\n",
    "    elif i=='Where_Are_They_comming_from?':\n",
    "        data['Where_Are_They_comming_from?']= data['Where_Are_They_comming_from?'].replace(['Came_From_Google','Landed_on_the_page_Directly'],['Google','Direct_traffic'])\n",
    "        # replacing the previous rows names with new name using .replace \n",
    "        \n",
    "        "
   ]
  },
  {
   "cell_type": "code",
   "execution_count": 16,
   "id": "dbdf634d",
   "metadata": {},
   "outputs": [],
   "source": [
    "for i in ['Month','Where_Are_They_comming_from?', 'How_many_Landed_on_our_Page?','How_many_Landed_on_the_our_Page_and_clicked_on_a_button?']:\n",
    "    data_cleaning(i)     # function call\n",
    "             "
   ]
  },
  {
   "cell_type": "markdown",
   "id": "a42e592c",
   "metadata": {},
   "source": [
    "# Part 2: DESCRIPTIVE STATISTICS\n"
   ]
  },
  {
   "cell_type": "code",
   "execution_count": 17,
   "id": "bf5f2060",
   "metadata": {},
   "outputs": [
    {
     "data": {
      "text/plain": [
       "Index(['Year', 'Month', 'MobileWeb_or_Web', 'Type_of_Customers?',\n",
       "       'Where_Are_They_comming_from?', 'Which_Place_in_India?',\n",
       "       'How_many_Landed_on_our_Page?',\n",
       "       'How_many_Landed_on_the_our_Page_and_clicked_on_a_button?',\n",
       "       'How_many_Landed_on_the_our_Page_and_clicked_on_a_button_and_started_filling_the_Form?',\n",
       "       'How_many_Landed_on_the_our_Page_and_clicked_on_a_button_and_started_filling_the_Form_and_Completed_and_submited_the_form?'],\n",
       "      dtype='object')"
      ]
     },
     "execution_count": 17,
     "metadata": {},
     "output_type": "execute_result"
    }
   ],
   "source": [
    "data.columns"
   ]
  },
  {
   "cell_type": "code",
   "execution_count": 18,
   "id": "72e2f6e6",
   "metadata": {},
   "outputs": [],
   "source": [
    "# define a function to get the mean , median , sd etc using .describe and also\n",
    "#the unique elements present is particular columns and its data types\n",
    "def descriptive_stats(col):  \n",
    "    if col in ['Year', 'Month', 'How_many_Landed_on_our_Page?',\n",
    "        'How_many_Landed_on_the_our_Page_and_clicked_on_a_button?',\n",
    "        'How_many_Landed_on_the_our_Page_and_clicked_on_a_button_and_started_filling_the_Form?',\n",
    "        'How_many_Landed_on_the_our_Page_and_clicked_on_a_button_and_started_filling_the_Form_and_Completed_and_submited_the_form?']:\n",
    "        \n",
    "        print(data[col].describe(),'\\n')\n",
    "    else:\n",
    "        print('Unique ',data[col].unique(), ': ', data[col].dtypes)\n",
    "        \n",
    "        \n",
    "        \n"
   ]
  },
  {
   "cell_type": "code",
   "execution_count": 19,
   "id": "0c5273b9",
   "metadata": {},
   "outputs": [
    {
     "name": "stdout",
     "output_type": "stream",
     "text": [
      "count    2160.000000\n",
      "mean     2020.000000\n",
      "std         0.816686\n",
      "min      2019.000000\n",
      "25%      2019.000000\n",
      "50%      2020.000000\n",
      "75%      2021.000000\n",
      "max      2021.000000\n",
      "Name: Year, dtype: float64 \n",
      "\n",
      "count    2160.000000\n",
      "mean        6.500000\n",
      "std         3.452852\n",
      "min         1.000000\n",
      "25%         3.750000\n",
      "50%         6.500000\n",
      "75%         9.250000\n",
      "max        12.000000\n",
      "Name: Month, dtype: float64 \n",
      "\n",
      "count    2.160000e+03\n",
      "mean     3.922474e+05\n",
      "std      9.555773e+05\n",
      "min      0.000000e+00\n",
      "25%      0.000000e+00\n",
      "50%      1.228350e+04\n",
      "75%      3.816422e+05\n",
      "max      1.127413e+07\n",
      "Name: How_many_Landed_on_our_Page?, dtype: float64 \n",
      "\n",
      "count    2.160000e+03\n",
      "mean     1.792281e+05\n",
      "std      3.951562e+05\n",
      "min      0.000000e+00\n",
      "25%      0.000000e+00\n",
      "50%      4.212500e+03\n",
      "75%      1.730452e+05\n",
      "max      4.079301e+06\n",
      "Name: How_many_Landed_on_the_our_Page_and_clicked_on_a_button?, dtype: float64 \n",
      "\n",
      "count    2.160000e+03\n",
      "mean     1.510725e+05\n",
      "std      2.353538e+05\n",
      "min      3.761000e+03\n",
      "25%      3.360800e+04\n",
      "50%      7.064950e+04\n",
      "75%      1.659590e+05\n",
      "max      3.022858e+06\n",
      "Name: How_many_Landed_on_the_our_Page_and_clicked_on_a_button_and_started_filling_the_Form?, dtype: float64 \n",
      "\n",
      "count    2.160000e+03\n",
      "mean     5.922129e+04\n",
      "std      8.646564e+04\n",
      "min      7.660000e+02\n",
      "25%      1.157725e+04\n",
      "50%      2.700450e+04\n",
      "75%      7.185350e+04\n",
      "max      1.251258e+06\n",
      "Name: How_many_Landed_on_the_our_Page_and_clicked_on_a_button_and_started_filling_the_Form_and_Completed_and_submited_the_form?, dtype: float64 \n",
      "\n",
      "Unique  ['Desktop_Website' 'Mobile_website'] :  object\n",
      "Unique  ['Existing_Customer' 'New_Customer'] :  object\n",
      "Unique  ['Google' 'Direct_traffic' 'Unidentified_Sources'] :  object\n",
      "Unique  ['Bangalore' 'Chennai' 'Dehradun' 'Indore' 'Pune'] :  object\n"
     ]
    }
   ],
   "source": [
    "for i in ['Year', 'Month', 'How_many_Landed_on_our_Page?',\n",
    "       'How_many_Landed_on_the_our_Page_and_clicked_on_a_button?',\n",
    "       'How_many_Landed_on_the_our_Page_and_clicked_on_a_button_and_started_filling_the_Form?',\n",
    "       'How_many_Landed_on_the_our_Page_and_clicked_on_a_button_and_started_filling_the_Form_and_Completed_and_submited_the_form?']:\n",
    "    descriptive_stats(i)   # function call for first time with given list of numeric data\n",
    "for j in ['MobileWeb_or_Web', 'Type_of_Customers?',\n",
    "       'Where_Are_They_comming_from?', 'Which_Place_in_India?']:\n",
    "    descriptive_stats(j)    # function call for second time for a list og categorical data\n",
    "    "
   ]
  },
  {
   "cell_type": "markdown",
   "id": "3001351c",
   "metadata": {},
   "source": [
    "# Part 3: PRESCRIPTIVE STATISTICS"
   ]
  },
  {
   "cell_type": "markdown",
   "id": "0f899a70",
   "metadata": {},
   "source": [
    "1:  “Which_Place_in_India?”  has the highest “How_many_Landed_on_the_our_Page?”\n"
   ]
  },
  {
   "cell_type": "code",
   "execution_count": 20,
   "id": "d58b0ae9",
   "metadata": {
    "scrolled": true
   },
   "outputs": [
    {
     "data": {
      "text/plain": [
       "Which_Place_in_India?                 Pune\n",
       "How_many_Landed_on_our_Page?    11274131.0\n",
       "dtype: object"
      ]
     },
     "execution_count": 20,
     "metadata": {},
     "output_type": "execute_result"
    }
   ],
   "source": [
    "data[['Which_Place_in_India?','How_many_Landed_on_our_Page?']].max()"
   ]
  },
  {
   "cell_type": "markdown",
   "id": "735df79d",
   "metadata": {},
   "source": [
    "2: “How_many_Landed_on_the_our_Page_and_clicked_on_a_button_and_started_filling_the_Form_and_Completed_and_submited_the_form?” divided by “How_many_Landed_on _our_Page?” is highest for “Which_Place_in_India?”"
   ]
  },
  {
   "cell_type": "code",
   "execution_count": 21,
   "id": "b1967e34",
   "metadata": {},
   "outputs": [],
   "source": [
    "data['div_data']=data['How_many_Landed_on_the_our_Page_and_clicked_on_a_button_and_started_filling_the_Form_and_Completed_and_submited_the_form?']/data['How_many_Landed_on_our_Page?']"
   ]
  },
  {
   "cell_type": "code",
   "execution_count": 22,
   "id": "5d3e440e",
   "metadata": {},
   "outputs": [
    {
     "data": {
      "text/plain": [
       "div_data                  inf\n",
       "Which_Place_in_India?    Pune\n",
       "dtype: object"
      ]
     },
     "execution_count": 22,
     "metadata": {},
     "output_type": "execute_result"
    }
   ],
   "source": [
    "data[['div_data','Which_Place_in_India?']].max()"
   ]
  },
  {
   "cell_type": "markdown",
   "id": "3827b8aa",
   "metadata": {},
   "source": [
    "# Part 4: SIMPLE MACHINE LEARNING QUESTIONS"
   ]
  },
  {
   "cell_type": "code",
   "execution_count": 23,
   "id": "d44fa190",
   "metadata": {},
   "outputs": [],
   "source": [
    "# droppig the data which is to be predicted after while and after training the model and drop categorical data aswell\n",
    "X= data.drop(['How_many_Landed_on_the_our_Page_and_clicked_on_a_button_and_started_filling_the_Form_and_Completed_and_submited_the_form?','MobileWeb_or_Web', 'Type_of_Customers?',\n",
    "       'Where_Are_They_comming_from?', 'Which_Place_in_India?','div_data'],axis=1)"
   ]
  },
  {
   "cell_type": "code",
   "execution_count": 24,
   "id": "b727dbbb",
   "metadata": {},
   "outputs": [
    {
     "data": {
      "text/html": [
       "<div>\n",
       "<style scoped>\n",
       "    .dataframe tbody tr th:only-of-type {\n",
       "        vertical-align: middle;\n",
       "    }\n",
       "\n",
       "    .dataframe tbody tr th {\n",
       "        vertical-align: top;\n",
       "    }\n",
       "\n",
       "    .dataframe thead th {\n",
       "        text-align: right;\n",
       "    }\n",
       "</style>\n",
       "<table border=\"1\" class=\"dataframe\">\n",
       "  <thead>\n",
       "    <tr style=\"text-align: right;\">\n",
       "      <th></th>\n",
       "      <th>Year</th>\n",
       "      <th>Month</th>\n",
       "      <th>How_many_Landed_on_our_Page?</th>\n",
       "      <th>How_many_Landed_on_the_our_Page_and_clicked_on_a_button?</th>\n",
       "      <th>How_many_Landed_on_the_our_Page_and_clicked_on_a_button_and_started_filling_the_Form?</th>\n",
       "    </tr>\n",
       "  </thead>\n",
       "  <tbody>\n",
       "    <tr>\n",
       "      <th>1440</th>\n",
       "      <td>2021</td>\n",
       "      <td>1</td>\n",
       "      <td>0.0</td>\n",
       "      <td>0.0</td>\n",
       "      <td>33812</td>\n",
       "    </tr>\n",
       "    <tr>\n",
       "      <th>1441</th>\n",
       "      <td>2021</td>\n",
       "      <td>1</td>\n",
       "      <td>0.0</td>\n",
       "      <td>0.0</td>\n",
       "      <td>93522</td>\n",
       "    </tr>\n",
       "    <tr>\n",
       "      <th>1442</th>\n",
       "      <td>2021</td>\n",
       "      <td>1</td>\n",
       "      <td>0.0</td>\n",
       "      <td>0.0</td>\n",
       "      <td>39599</td>\n",
       "    </tr>\n",
       "    <tr>\n",
       "      <th>1443</th>\n",
       "      <td>2021</td>\n",
       "      <td>1</td>\n",
       "      <td>0.0</td>\n",
       "      <td>0.0</td>\n",
       "      <td>128269</td>\n",
       "    </tr>\n",
       "    <tr>\n",
       "      <th>1444</th>\n",
       "      <td>2021</td>\n",
       "      <td>1</td>\n",
       "      <td>0.0</td>\n",
       "      <td>0.0</td>\n",
       "      <td>86085</td>\n",
       "    </tr>\n",
       "    <tr>\n",
       "      <th>...</th>\n",
       "      <td>...</td>\n",
       "      <td>...</td>\n",
       "      <td>...</td>\n",
       "      <td>...</td>\n",
       "      <td>...</td>\n",
       "    </tr>\n",
       "    <tr>\n",
       "      <th>2155</th>\n",
       "      <td>2021</td>\n",
       "      <td>12</td>\n",
       "      <td>67299.0</td>\n",
       "      <td>21255.0</td>\n",
       "      <td>6984</td>\n",
       "    </tr>\n",
       "    <tr>\n",
       "      <th>2156</th>\n",
       "      <td>2021</td>\n",
       "      <td>12</td>\n",
       "      <td>430294.0</td>\n",
       "      <td>156510.0</td>\n",
       "      <td>46676</td>\n",
       "    </tr>\n",
       "    <tr>\n",
       "      <th>2157</th>\n",
       "      <td>2021</td>\n",
       "      <td>12</td>\n",
       "      <td>48713.0</td>\n",
       "      <td>27770.0</td>\n",
       "      <td>7515</td>\n",
       "    </tr>\n",
       "    <tr>\n",
       "      <th>2158</th>\n",
       "      <td>2021</td>\n",
       "      <td>12</td>\n",
       "      <td>593021.0</td>\n",
       "      <td>310836.0</td>\n",
       "      <td>161575</td>\n",
       "    </tr>\n",
       "    <tr>\n",
       "      <th>2159</th>\n",
       "      <td>2021</td>\n",
       "      <td>12</td>\n",
       "      <td>372897.0</td>\n",
       "      <td>123057.0</td>\n",
       "      <td>48802</td>\n",
       "    </tr>\n",
       "  </tbody>\n",
       "</table>\n",
       "<p>720 rows × 5 columns</p>\n",
       "</div>"
      ],
      "text/plain": [
       "      Year  Month  How_many_Landed_on_our_Page?  \\\n",
       "1440  2021      1                           0.0   \n",
       "1441  2021      1                           0.0   \n",
       "1442  2021      1                           0.0   \n",
       "1443  2021      1                           0.0   \n",
       "1444  2021      1                           0.0   \n",
       "...    ...    ...                           ...   \n",
       "2155  2021     12                       67299.0   \n",
       "2156  2021     12                      430294.0   \n",
       "2157  2021     12                       48713.0   \n",
       "2158  2021     12                      593021.0   \n",
       "2159  2021     12                      372897.0   \n",
       "\n",
       "      How_many_Landed_on_the_our_Page_and_clicked_on_a_button?  \\\n",
       "1440                                                0.0          \n",
       "1441                                                0.0          \n",
       "1442                                                0.0          \n",
       "1443                                                0.0          \n",
       "1444                                                0.0          \n",
       "...                                                 ...          \n",
       "2155                                            21255.0          \n",
       "2156                                           156510.0          \n",
       "2157                                            27770.0          \n",
       "2158                                           310836.0          \n",
       "2159                                           123057.0          \n",
       "\n",
       "      How_many_Landed_on_the_our_Page_and_clicked_on_a_button_and_started_filling_the_Form?  \n",
       "1440                                              33812                                      \n",
       "1441                                              93522                                      \n",
       "1442                                              39599                                      \n",
       "1443                                             128269                                      \n",
       "1444                                              86085                                      \n",
       "...                                                 ...                                      \n",
       "2155                                               6984                                      \n",
       "2156                                              46676                                      \n",
       "2157                                               7515                                      \n",
       "2158                                             161575                                      \n",
       "2159                                              48802                                      \n",
       "\n",
       "[720 rows x 5 columns]"
      ]
     },
     "execution_count": 24,
     "metadata": {},
     "output_type": "execute_result"
    }
   ],
   "source": [
    "x=X[1440:]      # to train the data\n",
    "x"
   ]
  },
  {
   "cell_type": "code",
   "execution_count": 25,
   "id": "b437f898",
   "metadata": {},
   "outputs": [
    {
     "data": {
      "text/plain": [
       "(720, 5)"
      ]
     },
     "execution_count": 25,
     "metadata": {},
     "output_type": "execute_result"
    }
   ],
   "source": [
    "x.shape"
   ]
  },
  {
   "cell_type": "code",
   "execution_count": 26,
   "id": "576bbe21",
   "metadata": {},
   "outputs": [],
   "source": [
    "Y=data['How_many_Landed_on_the_our_Page_and_clicked_on_a_button_and_started_filling_the_Form_and_Completed_and_submited_the_form?']"
   ]
  },
  {
   "cell_type": "code",
   "execution_count": 27,
   "id": "104a511e",
   "metadata": {},
   "outputs": [],
   "source": [
    "y=Y[1440:]"
   ]
  },
  {
   "cell_type": "code",
   "execution_count": 72,
   "id": "aa024852",
   "metadata": {},
   "outputs": [
    {
     "data": {
      "text/html": [
       "<style>#sk-container-id-1 {color: black;background-color: white;}#sk-container-id-1 pre{padding: 0;}#sk-container-id-1 div.sk-toggleable {background-color: white;}#sk-container-id-1 label.sk-toggleable__label {cursor: pointer;display: block;width: 100%;margin-bottom: 0;padding: 0.3em;box-sizing: border-box;text-align: center;}#sk-container-id-1 label.sk-toggleable__label-arrow:before {content: \"▸\";float: left;margin-right: 0.25em;color: #696969;}#sk-container-id-1 label.sk-toggleable__label-arrow:hover:before {color: black;}#sk-container-id-1 div.sk-estimator:hover label.sk-toggleable__label-arrow:before {color: black;}#sk-container-id-1 div.sk-toggleable__content {max-height: 0;max-width: 0;overflow: hidden;text-align: left;background-color: #f0f8ff;}#sk-container-id-1 div.sk-toggleable__content pre {margin: 0.2em;color: black;border-radius: 0.25em;background-color: #f0f8ff;}#sk-container-id-1 input.sk-toggleable__control:checked~div.sk-toggleable__content {max-height: 200px;max-width: 100%;overflow: auto;}#sk-container-id-1 input.sk-toggleable__control:checked~label.sk-toggleable__label-arrow:before {content: \"▾\";}#sk-container-id-1 div.sk-estimator input.sk-toggleable__control:checked~label.sk-toggleable__label {background-color: #d4ebff;}#sk-container-id-1 div.sk-label input.sk-toggleable__control:checked~label.sk-toggleable__label {background-color: #d4ebff;}#sk-container-id-1 input.sk-hidden--visually {border: 0;clip: rect(1px 1px 1px 1px);clip: rect(1px, 1px, 1px, 1px);height: 1px;margin: -1px;overflow: hidden;padding: 0;position: absolute;width: 1px;}#sk-container-id-1 div.sk-estimator {font-family: monospace;background-color: #f0f8ff;border: 1px dotted black;border-radius: 0.25em;box-sizing: border-box;margin-bottom: 0.5em;}#sk-container-id-1 div.sk-estimator:hover {background-color: #d4ebff;}#sk-container-id-1 div.sk-parallel-item::after {content: \"\";width: 100%;border-bottom: 1px solid gray;flex-grow: 1;}#sk-container-id-1 div.sk-label:hover label.sk-toggleable__label {background-color: #d4ebff;}#sk-container-id-1 div.sk-serial::before {content: \"\";position: absolute;border-left: 1px solid gray;box-sizing: border-box;top: 0;bottom: 0;left: 50%;z-index: 0;}#sk-container-id-1 div.sk-serial {display: flex;flex-direction: column;align-items: center;background-color: white;padding-right: 0.2em;padding-left: 0.2em;position: relative;}#sk-container-id-1 div.sk-item {position: relative;z-index: 1;}#sk-container-id-1 div.sk-parallel {display: flex;align-items: stretch;justify-content: center;background-color: white;position: relative;}#sk-container-id-1 div.sk-item::before, #sk-container-id-1 div.sk-parallel-item::before {content: \"\";position: absolute;border-left: 1px solid gray;box-sizing: border-box;top: 0;bottom: 0;left: 50%;z-index: -1;}#sk-container-id-1 div.sk-parallel-item {display: flex;flex-direction: column;z-index: 1;position: relative;background-color: white;}#sk-container-id-1 div.sk-parallel-item:first-child::after {align-self: flex-end;width: 50%;}#sk-container-id-1 div.sk-parallel-item:last-child::after {align-self: flex-start;width: 50%;}#sk-container-id-1 div.sk-parallel-item:only-child::after {width: 0;}#sk-container-id-1 div.sk-dashed-wrapped {border: 1px dashed gray;margin: 0 0.4em 0.5em 0.4em;box-sizing: border-box;padding-bottom: 0.4em;background-color: white;}#sk-container-id-1 div.sk-label label {font-family: monospace;font-weight: bold;display: inline-block;line-height: 1.2em;}#sk-container-id-1 div.sk-label-container {text-align: center;}#sk-container-id-1 div.sk-container {/* jupyter's `normalize.less` sets `[hidden] { display: none; }` but bootstrap.min.css set `[hidden] { display: none !important; }` so we also need the `!important` here to be able to override the default hidden behavior on the sphinx rendered scikit-learn.org. See: https://github.com/scikit-learn/scikit-learn/issues/21755 */display: inline-block !important;position: relative;}#sk-container-id-1 div.sk-text-repr-fallback {display: none;}</style><div id=\"sk-container-id-1\" class=\"sk-top-container\"><div class=\"sk-text-repr-fallback\"><pre>LinearRegression()</pre><b>In a Jupyter environment, please rerun this cell to show the HTML representation or trust the notebook. <br />On GitHub, the HTML representation is unable to render, please try loading this page with nbviewer.org.</b></div><div class=\"sk-container\" hidden><div class=\"sk-item\"><div class=\"sk-estimator sk-toggleable\"><input class=\"sk-toggleable__control sk-hidden--visually\" id=\"sk-estimator-id-1\" type=\"checkbox\" checked><label for=\"sk-estimator-id-1\" class=\"sk-toggleable__label sk-toggleable__label-arrow\">LinearRegression</label><div class=\"sk-toggleable__content\"><pre>LinearRegression()</pre></div></div></div></div></div>"
      ],
      "text/plain": [
       "LinearRegression()"
      ]
     },
     "execution_count": 72,
     "metadata": {},
     "output_type": "execute_result"
    }
   ],
   "source": [
    "# training the data with complete dataset and then returning a trained model\n",
    "def pred_future(i,j):\n",
    "    X_train,X_test,y_train,y_test= train_test_split(i,j,test_size=0.3,random_state=0)\n",
    "    model_linear_reg= LinearRegression()\n",
    "    model=model_linear_reg.fit(X_train,y_train)\n",
    "    y_pred= model.predict(X_test)\n",
    "    return model\n",
    "\n",
    "pred_future(X,Y)"
   ]
  },
  {
   "cell_type": "code",
   "execution_count": 73,
   "id": "d0e26bc1",
   "metadata": {},
   "outputs": [
    {
     "name": "stdout",
     "output_type": "stream",
     "text": [
      "\n",
      "\n",
      " MAPE of prediction for the year 2021 is :  1.9414195785357695\n"
     ]
    }
   ],
   "source": [
    "#again calling the function and now predicting the output using the trained model\n",
    "model= pred_future(x,y)\n",
    "predict_all=model.predict(x)          # predicting for 2022 \n",
    "y, predict_all = np.array(y), np.array(predict_all)                # converting data into array form for easy handling\n",
    "mape = np.mean(np.abs((y-predict_all) / y))                         #calculating the MAPE pf predicted for year 2021\n",
    "print('\\n')\n",
    "print(' MAPE of prediction for the year 2021 is : ',mape)"
   ]
  },
  {
   "cell_type": "code",
   "execution_count": 31,
   "id": "32480a52",
   "metadata": {},
   "outputs": [
    {
     "data": {
      "text/plain": [
       "array([ 27985.06370441,  39153.46561041,  29067.48778463,  45652.6861937 ,\n",
       "        37762.41880125,  34320.99480748,  50376.85847539,  42473.12390932,\n",
       "        59939.6740146 ,  74340.57167909,  23166.43416326,  26064.49511003,\n",
       "        24924.83554189,  27908.56267645,  26902.26553603,  30358.26369943,\n",
       "        51386.74840169,  31498.0156709 ,  98228.15528637,  45147.39150719,\n",
       "        42780.81342133,  65800.76330221,  45324.9532052 , 108669.86231069,\n",
       "       179122.56518127,  23605.6090609 ,  30080.5803334 ,  25150.28726919,\n",
       "        42808.81837095,  33680.32061613,  23183.45517437,  27029.45550917,\n",
       "        23627.49781588,  34293.87341615,  27515.77011235,  29225.54003067,\n",
       "        41762.16936829,  33478.36123544,  67671.32802878,  65116.68000948,\n",
       "        22915.98214262,  24396.24897706,  23325.60867376,  26772.64398988,\n",
       "        27326.10741711,  24811.9420174 ,  35558.01881342,  26610.37079631,\n",
       "        85171.35738286,  33174.3211875 ,  36745.95585389,  63611.2196663 ,\n",
       "        34534.45674001, 230925.40249321, 150435.27155012,  23952.28506285,\n",
       "        27447.67938761,  22917.45719242,  46854.59850108,  35739.90043345,\n",
       "        26279.70907535,  35707.10470198,  26219.29383811,  41031.31438636,\n",
       "        35375.66259551,  32326.65707768,  46353.84067404,  38651.17849197,\n",
       "        55489.63458284,  69087.36497579,  22230.76591576,  24583.96746289,\n",
       "        23424.66826655,  26353.96557437,  25250.40551332,  27878.15169992,\n",
       "        46520.72411132,  29098.57584456,  85324.53217793,  40903.82082782,\n",
       "        42970.61267356,  71402.99584718,  49324.66342974,  95618.36600487,\n",
       "       207501.13550101,  22675.60894226,  27932.26548587,  23483.13360473,\n",
       "        40746.90183274,  29831.0828354 ,  23318.05314201,  27235.13022651,\n",
       "        23370.05139573,  34053.44800711,  28552.66871296,  30697.12906888,\n",
       "        41918.65149308,  34420.24144435,  68565.13790961,  70477.1024764 ,\n",
       "        22238.99585519,  23713.65136728,  22796.20016399,  26322.16808109,\n",
       "        26574.30349842,  25010.7894307 ,  36584.3500099 ,  26171.64544093,\n",
       "        89672.83643795,  34790.35068685,  39686.2942435 ,  72279.25429137,\n",
       "        38200.89525886, 225204.82397349, 127651.53622595,  23729.60523395,\n",
       "        27492.25231462,  22535.56982141,  52055.10633305,  34335.75735821,\n",
       "        25621.42719573,  35494.36181651,  24429.95641795,  42919.26354253,\n",
       "        34488.99989648,  32385.31514959,  46559.14130322,  38412.24943556,\n",
       "        59887.15413547,  74240.54260412,  21503.09068315,  23963.46848706,\n",
       "        22726.92008645,  26586.76168304,  24869.88408975,  27151.29862551,\n",
       "        47514.89337533,  26483.19086632,  89100.31203819,  41233.3513734 ,\n",
       "        74163.8482808 , 102598.64407882,  65783.96439024, 172110.88113794,\n",
       "       372225.21925367,  22489.34216747,  27979.05280093,  22588.01509875,\n",
       "        43312.78699566,  31138.41446287,  23976.37452845,  29318.72748841,\n",
       "        23126.63328144,  37860.09531688,  30129.93765533,  33344.29013824,\n",
       "        46858.41182825,  38392.79685143,  87164.72727166,  85528.27863198,\n",
       "        21653.2870779 ,  23489.68583712,  22527.9051873 ,  28668.93636094,\n",
       "        27523.10433823,  25612.10165471,  42230.35447244,  25562.9712389 ,\n",
       "       106891.38890379,  36748.13935718,  41069.31358071,  77783.20532418,\n",
       "        39625.83466312, 291360.5543122 , 152062.12211777,  23731.10707508,\n",
       "        27739.73356512,  22127.83035392,  62172.46415285,  37939.96473392,\n",
       "        23901.67017265,  33345.15159   ,  23282.92836215,  41037.52634777,\n",
       "        34445.34485765,  29345.77511112,  43989.8300772 ,  35529.2652905 ,\n",
       "        55967.75875341,  65030.60547174,  20507.19424249,  22919.87580647,\n",
       "        21879.34959975,  25798.85825727,  23475.77080672,  24528.46677982,\n",
       "        43151.64556053,  24367.14777238,  81593.50419745,  41409.39885887,\n",
       "        54821.71254996,  88556.89229493,  55684.10517429, 272854.60808672,\n",
       "       379193.24287579,  20762.37298643,  25690.40093054,  21613.04848432,\n",
       "        45181.95017084,  30050.50482692,  22944.56562479,  28919.31461295,\n",
       "        22342.28369316,  40429.44604972,  30743.36846302,  30856.90421845,\n",
       "        45142.02159857,  37291.22050662,  84963.33174736,  75092.08052329,\n",
       "        20689.18813052,  22616.86439988,  21786.57573699,  26120.76111576,\n",
       "        26394.03251392,  24073.33359061,  40865.45605396,  24318.63434543,\n",
       "       107923.36777518,  39222.57105871,  38814.807897  ,  76509.27664244,\n",
       "        38367.41227054, 278905.57551487, 142396.55226531,  21653.52489864,\n",
       "        26473.61514734,  21354.52048783,  60981.3920724 ,  36928.7840793 ,\n",
       "        23922.17125262,  33086.02177315,  23917.12106251,  41680.32307573,\n",
       "        34788.6840165 ,  28337.90784946,  42886.3832916 ,  34831.89119855,\n",
       "        55650.27118418,  62348.13257845,  19659.99784395,  21972.7978702 ,\n",
       "        21075.73447142,  24559.24338278,  22356.05118632,  24686.3494795 ,\n",
       "        41597.33305053,  25321.27677062,  81889.94211761,  40753.44907422,\n",
       "        44497.06988032,  77108.68615301,  44080.48192657, 289797.49095682,\n",
       "       274664.65662301,  19981.43324983,  25554.24515797,  20940.60605306,\n",
       "        41503.36889245,  29680.63610857,  23095.06233907,  30335.53860404,\n",
       "        23468.7764072 ,  40374.19427805,  31688.42842126,  30788.37231722,\n",
       "        47794.23285804,  37036.95383579,  90782.38629388,  80541.16188324,\n",
       "        19916.62231916,  22484.550468  ,  21018.49898351,  27658.37671356,\n",
       "        26187.08799487,  24708.6799312 ,  42967.29672885,  26692.91749711,\n",
       "       110252.78778566,  41196.91789234,  41129.60451088,  87037.23888588,\n",
       "        40914.42340563, 322066.1747093 , 160003.83812691,  21072.73144644,\n",
       "        26973.2804116 ,  20788.73681719,  64682.25319696,  35730.13604101,\n",
       "        22078.59104981,  29796.21675812,  21660.54753515,  39633.80004813,\n",
       "        30178.16076569,  26582.42540745,  39376.80148476,  30777.82408023,\n",
       "        54485.84802911,  62408.28700299,  18723.58142013,  20943.42053955,\n",
       "        19694.90131794,  24822.71472026,  21560.10486519,  23429.83322549,\n",
       "        37649.34181028,  22966.90659777,  81575.07501645,  34300.57891997,\n",
       "       149098.16929638, 115462.59157315,  47759.62062141, 227006.70004182,\n",
       "       519285.17250044,  19220.19703067,  23830.75682393,  19567.11261233,\n",
       "        45557.97409954,  58250.64742302,  21141.68726238,  26413.3375608 ,\n",
       "        21135.70185188,  37224.11118939,  36314.14174922,  28045.29714261,\n",
       "        42879.57593617,  32956.32645837,  90021.23017129, 118034.82175498,\n",
       "        18893.79153124,  21181.34060695,  19655.06092929,  26859.81177533,\n",
       "        25635.23419572,  23037.84638221,  37058.92632416,  23918.46660976,\n",
       "       100203.01179984,  34486.82332546,  40018.93406205,  90798.09851487,\n",
       "        37560.00088256, 317453.08013895, 186355.54595971,  19902.51331022,\n",
       "        24601.1830551 ,  19501.01089028,  61565.48294413,  33650.29510539,\n",
       "        21473.61673247,  31728.30831673,  21111.49939718,  34243.49003554,\n",
       "        29957.56202894,  25860.54854126,  40822.95252835,  30210.63266667,\n",
       "        46008.00141859,  56152.14995267,  17862.91784797,  20117.54716592,\n",
       "        18825.82076225,  21753.80876153,  20286.82205664,  22740.18899305,\n",
       "        45300.04389291,  22055.17953955,  63733.80324944,  35753.40671658,\n",
       "        91085.39866938, 319537.20972664,  43972.77669889, 243933.83989798,\n",
       "       299344.10002396,  18347.44515494,  24455.85206898,  18590.27957594,\n",
       "        35905.220945  ,  27255.04726716,  20669.51424052,  28607.10378474,\n",
       "        20957.56212086,  34497.30884958,  28624.87297216,  27188.56149609,\n",
       "        45727.80938953,  32535.21646985,  84965.35497042,  70839.22505672,\n",
       "        18176.96485517,  20796.14308143,  19140.99003393,  26515.95099108,\n",
       "        23858.24168473,  22898.50072967,  48916.7501768 ,  24045.40843234,\n",
       "        92399.6934057 ,  39792.46231547,  42039.81405774, 129296.68319497,\n",
       "        43432.3157045 , 240648.9636883 , 180799.16321073,  19154.31691713,\n",
       "        28293.83363075,  18806.98956442,  62594.67226176,  31858.19318894,\n",
       "        20917.46091952,  35027.13095434,  21937.7863658 ,  33051.19731282,\n",
       "        30566.1296906 ,  24509.08130805,  42853.99040429,  31810.34689841,\n",
       "        45439.50069648,  61206.00717551,  17085.11480242,  19663.70446372,\n",
       "        18175.20768984,  20483.33161415,  19666.32308081,  22263.57561855,\n",
       "        52167.28299824,  22658.39806595,  61109.57087536,  35549.10498032,\n",
       "        79416.86057876, 371051.70829956,  61864.14353378, 254403.67070272,\n",
       "       345486.79726864,  17541.86617024,  23061.94385618,  17825.01929548,\n",
       "        32318.46910671,  24056.66276562,  20566.19214076,  30802.55340537,\n",
       "        22261.55966506,  35513.44555752,  29609.96036312,  26962.35143699,\n",
       "        45605.22174972,  35913.15875251,  89483.1438653 ,  77550.479856  ,\n",
       "        17498.85630327,  20732.28728216,  18659.09072   ,  27159.68293943,\n",
       "        22739.45728472,  22923.98288145,  55313.72544754,  25086.09020459,\n",
       "        95638.77766409,  38897.01537942,  87275.49618312, 125661.36967213,\n",
       "        49090.1512121 , 352667.2398018 , 336034.80417485,  18766.9376962 ,\n",
       "        27230.34676974,  18025.7517319 ,  61574.36284075,  31690.48381725,\n",
       "        19639.68905309,  35305.93990623,  20509.44401646,  29213.35314883,\n",
       "        28349.95768412,  23865.76295468,  41491.11348231,  30224.13934713,\n",
       "        41483.81876326,  55016.08372885,  16407.75442683,  19164.03596237,\n",
       "        17220.46094637,  19436.93327238,  19497.16146554,  20457.40358551,\n",
       "        52915.85397886,  20824.45632034,  53644.53642758,  32002.33729995,\n",
       "        54666.52416719, 294796.65217797,  67652.05558684, 214148.14139687,\n",
       "       306258.76061726,  16681.3631157 ,  24035.24631235,  17091.72701214,\n",
       "        27052.69582156,  22620.59614301,  19113.90814943,  30413.24091013,\n",
       "        20459.31620352,  30413.80204236,  28731.90169169,  25582.82759205,\n",
       "        43005.42233897,  34055.73728791,  78237.23194232,  73176.9414522 ,\n",
       "        16668.49387177,  19181.43106164,  17331.93921694,  25454.32831037,\n",
       "        21959.40971024,  21145.83137593,  54331.34674834,  22495.1799579 ,\n",
       "        81130.84386485,  36021.10393852,  78605.1920384 , 169266.06880856,\n",
       "       130886.36846512, 384927.96650724, 231479.0381543 ,  17726.96798954,\n",
       "        24226.01362643,  17004.55845927,  48632.34989592,  30387.33872933,\n",
       "        24033.46772416,  49805.52307536,  26793.1160531 ,  38390.22298621,\n",
       "        39700.27970953,  31405.62302014,  63160.65729895,  45191.89384385,\n",
       "        61392.71667233,  89481.68701951,  16717.79973977,  21795.29828508,\n",
       "        18131.66592647,  21760.8821747 ,  23715.49279131,  21162.18808853,\n",
       "        48980.82298607,  22316.21405426,  49882.11927525,  36630.78066507,\n",
       "        55826.6060247 , 215828.03736472,  65729.75967322, 234408.50796025,\n",
       "       355528.41130216,  16234.47285322,  21778.24924007,  16301.17791786,\n",
       "        26128.36893897,  23380.95731244,  22945.05823343,  42547.46466705,\n",
       "        24252.68338374,  42285.41591357,  50667.79627561,  35545.09551355,\n",
       "        69585.06025097,  49986.95583116, 136127.67444755, 135448.14331165,\n",
       "        17420.52434136,  22215.96041683,  18033.8418736 ,  32057.47163247,\n",
       "        28060.71377068,  21665.60072198,  52672.7147591 ,  23906.39965607,\n",
       "        74589.60729573,  38613.50657089,  84082.75756075, 184329.74786181,\n",
       "        58178.57430692, 444123.12991247, 214440.76827294,  16991.21862263,\n",
       "        23655.22066319,  16211.1770422 ,  44865.11469621,  29515.47806915,\n",
       "        23865.24132928,  59030.27619674,  31046.98575371,  40984.26353737,\n",
       "        44309.90724678,  31306.97702233,  69141.50497307,  59110.33106219,\n",
       "        63906.14122581,  92204.41389643,  15997.41922622,  22139.19857616,\n",
       "        18481.36458397,  21300.49292977,  21036.76077958,  20326.82428307,\n",
       "        54521.03539619,  22720.44263725,  51070.357647  ,  35687.81787207,\n",
       "        84561.37182532, 285539.00095809, 128894.29969624, 415794.1027665 ,\n",
       "       453787.02283441,  15520.35750783,  22997.16290806,  15897.32871318,\n",
       "        24889.89151426,  25433.41282308,  22838.36934027,  48702.82446608,\n",
       "        26690.72917373,  44991.49586753,  54813.92858721,  37363.83836081,\n",
       "        78811.30972498,  63165.44667636, 139858.00777343, 151309.22032559,\n",
       "        17020.17624551,  23539.41054515,  18209.77658251,  33249.24272979,\n",
       "        30008.51703186,  21030.52112614,  57591.08356125,  24182.26811919,\n",
       "        77641.66491046,  55207.81870768, 153455.80840686, 187799.89160982,\n",
       "       105558.51738423, 502319.37785385, 334703.07422649,  17843.58220636,\n",
       "        25848.6428328 ,  15902.66038824,  43298.86140877,  34448.48336367,\n",
       "        21677.12593452,  52762.72945765,  26835.42752159,  47306.27961003,\n",
       "        41118.48741685,  28441.76206469,  66522.44002227,  47849.0815248 ,\n",
       "        78866.22691533,  84624.56590508,  14902.76351229,  21228.96832329,\n",
       "        17772.76784734,  23596.9463526 ,  19492.4511018 ,  18067.32221631,\n",
       "        48071.35159942,  19888.14901635,  54975.78528499,  32661.86100579,\n",
       "        50586.36223134, 204767.80951662,  61088.874963  , 596291.29541175,\n",
       "       454492.25438659,  14570.79879735,  21016.5665302 ,  15480.22476589,\n",
       "        25519.51259481,  20495.3160791 ,  20999.27819533,  45940.10966326,\n",
       "        23767.15646371,  46975.58567987,  56380.16192897,  34967.72995115,\n",
       "        77409.9017229 ,  52511.71630478, 154731.67909885, 141567.89096721,\n",
       "        16075.90397041,  22958.75195797,  17659.79322414,  39952.82872186,\n",
       "        28094.2341675 ,  19205.37240613,  54503.74810561,  21872.97911473,\n",
       "        80479.63665747,  42419.42455767,  88904.56263263, 159358.29344101,\n",
       "       111534.76510826, 487637.93815883, 344838.25823738,  15906.52677851,\n",
       "        30107.8305199 ,  15050.35870947,  50395.36970383,  29980.16383481])"
      ]
     },
     "execution_count": 31,
     "metadata": {},
     "output_type": "execute_result"
    }
   ],
   "source": [
    "# predicted value for 2022 data\n",
    "predict_all             "
   ]
  },
  {
   "cell_type": "markdown",
   "id": "8de004ec",
   "metadata": {},
   "source": [
    "# Part 5: VISUALIZATION\n",
    "\n",
    "\n",
    "\n",
    "."
   ]
  },
  {
   "cell_type": "markdown",
   "id": "f9896b6e",
   "metadata": {},
   "source": [
    "1 : \n",
    "A line graph for “How_many_Landed_on_the_our_Page_and_clicked_on_a_button?” for the different “Which_Place_in_India?” over the months of the year 2019 & 2020.\n"
   ]
  },
  {
   "cell_type": "code",
   "execution_count": 32,
   "id": "7fe7f41f",
   "metadata": {},
   "outputs": [
    {
     "data": {
      "text/plain": [
       "<AxesSubplot:xlabel='How_many_Landed_on_the_our_Page_and_clicked_on_a_button?', ylabel='Which_Place_in_India?'>"
      ]
     },
     "execution_count": 32,
     "metadata": {},
     "output_type": "execute_result"
    },
    {
     "data": {
      "image/png": "[encoded data removed]",
      "text/plain": [
       "<Figure size 720x1296 with 1 Axes>"
      ]
     },
     "metadata": {
      "needs_background": "light"
     },
     "output_type": "display_data"
    }
   ],
   "source": [
    "plt.figure(figsize=(10,18))\n",
    "sns.lineplot(x='How_many_Landed_on_the_our_Page_and_clicked_on_a_button?', y=\"Which_Place_in_India?\", data=data[data['Year']<2021], hue='Year',palette='rainbow')"
   ]
  },
  {
   "cell_type": "markdown",
   "id": "d07bf349",
   "metadata": {},
   "source": [
    "."
   ]
  },
  {
   "cell_type": "markdown",
   "id": "0239d2c1",
   "metadata": {},
   "source": [
    "2 : \n",
    "A line graph of the actual and projected number of “How_many_Landed_on_the_our_Page_and_clicked_on_a_button_and_started_filling_the_Form_and_Completed_and_submited_the_form?” for the months of the year 2021 & 2022\n"
   ]
  },
  {
   "cell_type": "code",
   "execution_count": 64,
   "id": "4374b20d",
   "metadata": {},
   "outputs": [],
   "source": [
    "# need to make new dataframe for making line plot of predicted values\n",
    "df= pd.DataFrame({'Actual (2021)': y,'predict (2022)': predict_all ,'year': data['Year'][1440:]})\n"
   ]
  },
  {
   "cell_type": "code",
   "execution_count": 66,
   "id": "289c40b2",
   "metadata": {},
   "outputs": [
    {
     "data": {
      "text/plain": [
       "<AxesSubplot:xlabel='Actual (2021)', ylabel='predict (2022)'>"
      ]
     },
     "execution_count": 66,
     "metadata": {},
     "output_type": "execute_result"
    },
    {
     "data": {
      "image/png": "[encoded data removed]",
      "text/plain": [
       "<Figure size 432x288 with 1 Axes>"
      ]
     },
     "metadata": {
      "needs_background": "light"
     },
     "output_type": "display_data"
    }
   ],
   "source": [
    "sns.lineplot(x='Actual (2021)',y='predict (2022)',data=df)"
   ]
  },
  {
   "cell_type": "markdown",
   "id": "f37cc54a",
   "metadata": {},
   "source": [
    "# Part 6: About the Previous projects\n"
   ]
  },
  {
   "cell_type": "markdown",
   "id": "83fb3f3e",
   "metadata": {},
   "source": [
    "I have been constantly learning and implimenting the Data Science and Machine Learning concepts . I've made several projects on the same which helped me understanding this domain in more detail.\n",
    "I have done Prutor(IIT Kanpur) training and Internship course in DATA SCIENCE with PYTHON. I also have done UDEMY COURSE which has helped me understanding several libraries (Pandas,Matplotlib,Numpy,Seaborn,SkLearn, NLP basics etc) in details with its implimentations.\n",
    "\n",
    "Below are the list of projects I have built during learning process :\n",
    "\n",
    "1].  AIRLINE FLIGHT FARE PREDICTION :\n",
    "      https://github.com/fiz-102/fizzz/blob/2abcd798a70a23b35c09a49efbad0221d5c739ce/PROJECT%201.ipynb\n",
    "      \n",
    "     project Description :This project plays very important role in giving me the insights of data and I've learnt alot during making this project .\n",
    "\n",
    "2].  PASSWORD STRENGTH PREDICTION  :\n",
    "     https://github.com/fiz-102/fizzz/blob/2abcd798a70a23b35c09a49efbad0221d5c739ce/PROJECT%202.ipynb\n",
    "    \n",
    "    Project Description : I have used TF-IDF in NLP to predict the strength of password .In this project i firstly converted                           the data into array form so that dependent and independent variables can be used effectively to get                              accurate result.\n",
    "\n",
    "3].  BREAST CANCER DETECTION :\n",
    "        https://github.com/fiz-102/fizzz/blob/97782068e579a95eb20d963f69f0eb4bb064e944/BreastCancerDetection%20...ipynb\n",
    "        \n",
    "     Project Description :    On the basis of given data this model predicts if the person has breast cancer or not . In this I was required to do some label encoding to allow machine to understand the information .\n"
   ]
  },
  {
   "cell_type": "markdown",
   "id": "14f74311",
   "metadata": {},
   "source": [
    "# Part 7 : Time management\n"
   ]
  },
  {
   "cell_type": "markdown",
   "id": "a005b26f",
   "metadata": {},
   "source": [
    " I have this habit of managing time since i was in 9th class . For me it is very necessary to have balance of time to do all works and extra activities .This skill will decide if we will be successful or not . So, if I got selected, I will manage my time by being present in the moment ,have proper plan for managing my time. like for my college assignments i would manage them in between gaps and i will try to complete any work as soon as possible so that i have some free time for new work aswell."
   ]
  },
  {
   "cell_type": "markdown",
   "id": "f7b3107c",
   "metadata": {},
   "source": [
    "THANKYOU "
   ]
  }
 ],
 "metadata": {
  "kernelspec": {
   "display_name": "Python 3 (ipykernel)",
   "language": "python",
   "name": "python3"
  },
  "language_info": {
   "codemirror_mode": {
    "name": "ipython",
    "version": 3
   },
   "file_extension": ".py",
   "mimetype": "text/x-python",
   "name": "python",
   "nbconvert_exporter": "python",
   "pygments_lexer": "ipython3",
   "version": "3.9.0"
  }
 },
 "nbformat": 4,
 "nbformat_minor": 5
}
