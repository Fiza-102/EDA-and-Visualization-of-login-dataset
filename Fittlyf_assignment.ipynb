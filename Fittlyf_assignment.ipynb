{
 "cells": [
  {
   "cell_type": "markdown",
   "id": "ebd29ce3",
   "metadata": {},
   "source": [
    "# import necessary libraries "
   ]
  },
  {
   "cell_type": "code",
   "execution_count": 1,
   "id": "e223d987",
   "metadata": {},
   "outputs": [],
   "source": [
    "import pandas as pd\n",
    "import numpy as np\n",
    "import matplotlib.pyplot as plt\n",
    "import seaborn as sns\n"
   ]
  },
  {
   "cell_type": "code",
   "execution_count": 175,
   "id": "f5458d8a",
   "metadata": {},
   "outputs": [],
   "source": [
    "from sklearn.model_selection  import train_test_split"
   ]
  },
  {
   "cell_type": "code",
   "execution_count": 195,
   "id": "89d29710",
   "metadata": {},
   "outputs": [],
   "source": [
    "from sklearn.linear_model import LinearRegression\n",
    "from sklearn.metrics import r2_score"
   ]
  },
  {
   "cell_type": "markdown",
   "id": "38bd849a",
   "metadata": {},
   "source": [
    "# 0 :  READING THE DATA"
   ]
  },
  {
   "cell_type": "code",
   "execution_count": 2,
   "id": "88365a5c",
   "metadata": {},
   "outputs": [],
   "source": [
    "data=pd.read_csv('Fytlyff_DS_Interview.csv')"
   ]
  },
  {
   "cell_type": "markdown",
   "id": "6dbaa4df",
   "metadata": {},
   "source": [
    "this returns the top 5 rows of the dataframe"
   ]
  },
  {
   "cell_type": "code",
   "execution_count": 12,
   "id": "471251ce",
   "metadata": {},
   "outputs": [
    {
     "data": {
      "text/html": [
       "<div>\n",
       "<style scoped>\n",
       "    .dataframe tbody tr th:only-of-type {\n",
       "        vertical-align: middle;\n",
       "    }\n",
       "\n",
       "    .dataframe tbody tr th {\n",
       "        vertical-align: top;\n",
       "    }\n",
       "\n",
       "    .dataframe thead th {\n",
       "        text-align: right;\n",
       "    }\n",
       "</style>\n",
       "<table border=\"1\" class=\"dataframe\">\n",
       "  <thead>\n",
       "    <tr style=\"text-align: right;\">\n",
       "      <th></th>\n",
       "      <th>Year</th>\n",
       "      <th>Month</th>\n",
       "      <th>MobileWeb_or_Web</th>\n",
       "      <th>Type_of_Customers?</th>\n",
       "      <th>Where_Are_They_comming_from?</th>\n",
       "      <th>Which_Place_in_India?</th>\n",
       "      <th>How_many_Landed_on_our_Page?</th>\n",
       "      <th>How_many_Landed_on_the_our_Page_and_clicked_on_a_button?</th>\n",
       "      <th>How_many_Landed_on_the_our_Page_and_clicked_on_a_button_and_started_filling_the_Form?</th>\n",
       "      <th>How_many_Landed_on_the_our_Page_and_clicked_on_a_button_and_started_filling_the_Form_and_Completed_and_submited_the_form?</th>\n",
       "    </tr>\n",
       "  </thead>\n",
       "  <tbody>\n",
       "    <tr>\n",
       "      <th>0</th>\n",
       "      <td>2019</td>\n",
       "      <td>Jan</td>\n",
       "      <td>Desktop_Website</td>\n",
       "      <td>Existing_Customer</td>\n",
       "      <td>Came_From_Google</td>\n",
       "      <td>Bangalore</td>\n",
       "      <td>NaN</td>\n",
       "      <td>NaN</td>\n",
       "      <td>56892</td>\n",
       "      <td>17178</td>\n",
       "    </tr>\n",
       "    <tr>\n",
       "      <th>1</th>\n",
       "      <td>2019</td>\n",
       "      <td>Jan</td>\n",
       "      <td>Desktop_Website</td>\n",
       "      <td>Existing_Customer</td>\n",
       "      <td>Came_From_Google</td>\n",
       "      <td>Chennai</td>\n",
       "      <td>NaN</td>\n",
       "      <td>NaN</td>\n",
       "      <td>41460</td>\n",
       "      <td>11916</td>\n",
       "    </tr>\n",
       "    <tr>\n",
       "      <th>2</th>\n",
       "      <td>2019</td>\n",
       "      <td>Jan</td>\n",
       "      <td>Desktop_Website</td>\n",
       "      <td>Existing_Customer</td>\n",
       "      <td>Came_From_Google</td>\n",
       "      <td>Dehradun</td>\n",
       "      <td>NaN</td>\n",
       "      <td>NaN</td>\n",
       "      <td>55561</td>\n",
       "      <td>19461</td>\n",
       "    </tr>\n",
       "    <tr>\n",
       "      <th>3</th>\n",
       "      <td>2019</td>\n",
       "      <td>Jan</td>\n",
       "      <td>Desktop_Website</td>\n",
       "      <td>Existing_Customer</td>\n",
       "      <td>Came_From_Google</td>\n",
       "      <td>Indore</td>\n",
       "      <td>NaN</td>\n",
       "      <td>NaN</td>\n",
       "      <td>320923</td>\n",
       "      <td>110667</td>\n",
       "    </tr>\n",
       "    <tr>\n",
       "      <th>4</th>\n",
       "      <td>2019</td>\n",
       "      <td>Jan</td>\n",
       "      <td>Desktop_Website</td>\n",
       "      <td>Existing_Customer</td>\n",
       "      <td>Came_From_Google</td>\n",
       "      <td>Pune</td>\n",
       "      <td>NaN</td>\n",
       "      <td>NaN</td>\n",
       "      <td>220937</td>\n",
       "      <td>46033</td>\n",
       "    </tr>\n",
       "  </tbody>\n",
       "</table>\n",
       "</div>"
      ],
      "text/plain": [
       "   Year Month MobileWeb_or_Web Type_of_Customers?  \\\n",
       "0  2019   Jan  Desktop_Website  Existing_Customer   \n",
       "1  2019   Jan  Desktop_Website  Existing_Customer   \n",
       "2  2019   Jan  Desktop_Website  Existing_Customer   \n",
       "3  2019   Jan  Desktop_Website  Existing_Customer   \n",
       "4  2019   Jan  Desktop_Website  Existing_Customer   \n",
       "\n",
       "  Where_Are_They_comming_from? Which_Place_in_India?  \\\n",
       "0             Came_From_Google             Bangalore   \n",
       "1             Came_From_Google               Chennai   \n",
       "2             Came_From_Google              Dehradun   \n",
       "3             Came_From_Google                Indore   \n",
       "4             Came_From_Google                  Pune   \n",
       "\n",
       "   How_many_Landed_on_our_Page?  \\\n",
       "0                           NaN   \n",
       "1                           NaN   \n",
       "2                           NaN   \n",
       "3                           NaN   \n",
       "4                           NaN   \n",
       "\n",
       "   How_many_Landed_on_the_our_Page_and_clicked_on_a_button?  \\\n",
       "0                                                NaN          \n",
       "1                                                NaN          \n",
       "2                                                NaN          \n",
       "3                                                NaN          \n",
       "4                                                NaN          \n",
       "\n",
       "   How_many_Landed_on_the_our_Page_and_clicked_on_a_button_and_started_filling_the_Form?  \\\n",
       "0                                              56892                                       \n",
       "1                                              41460                                       \n",
       "2                                              55561                                       \n",
       "3                                             320923                                       \n",
       "4                                             220937                                       \n",
       "\n",
       "   How_many_Landed_on_the_our_Page_and_clicked_on_a_button_and_started_filling_the_Form_and_Completed_and_submited_the_form?  \n",
       "0                                              17178                                                                          \n",
       "1                                              11916                                                                          \n",
       "2                                              19461                                                                          \n",
       "3                                             110667                                                                          \n",
       "4                                              46033                                                                          "
      ]
     },
     "execution_count": 12,
     "metadata": {},
     "output_type": "execute_result"
    }
   ],
   "source": [
    "data.head()"
   ]
  },
  {
   "cell_type": "code",
   "execution_count": 14,
   "id": "b08eab07",
   "metadata": {},
   "outputs": [],
   "source": [
    "#data.isnull().sum()"
   ]
  },
  {
   "cell_type": "markdown",
   "id": "ee8865ba",
   "metadata": {},
   "source": [
    "# column names"
   ]
  },
  {
   "cell_type": "code",
   "execution_count": 5,
   "id": "d1839e53",
   "metadata": {},
   "outputs": [
    {
     "data": {
      "text/plain": [
       "Index(['Year', 'Month', 'MobileWeb_or_Web', 'Type_of_Customers?',\n",
       "       'Where_Are_They_comming_from?', 'Which_Place_in_India?',\n",
       "       'How_many_Landed_on_our_Page?',\n",
       "       'How_many_Landed_on_the_our_Page_and_clicked_on_a_button?',\n",
       "       'How_many_Landed_on_the_our_Page_and_clicked_on_a_button_and_started_filling_the_Form?',\n",
       "       'How_many_Landed_on_the_our_Page_and_clicked_on_a_button_and_started_filling_the_Form_and_Completed_and_submited_the_form?'],\n",
       "      dtype='object')"
      ]
     },
     "execution_count": 5,
     "metadata": {},
     "output_type": "execute_result"
    }
   ],
   "source": [
    "data.columns"
   ]
  },
  {
   "cell_type": "markdown",
   "id": "5399a52a",
   "metadata": {},
   "source": [
    "# Datatypes of given columns"
   ]
  },
  {
   "cell_type": "code",
   "execution_count": 10,
   "id": "bbf3a824",
   "metadata": {},
   "outputs": [
    {
     "data": {
      "text/plain": [
       "Year                                                                                                                           int64\n",
       "Month                                                                                                                         object\n",
       "MobileWeb_or_Web                                                                                                              object\n",
       "Type_of_Customers?                                                                                                            object\n",
       "Where_Are_They_comming_from?                                                                                                  object\n",
       "Which_Place_in_India?                                                                                                         object\n",
       "How_many_Landed_on_our_Page?                                                                                                 float64\n",
       "How_many_Landed_on_the_our_Page_and_clicked_on_a_button?                                                                     float64\n",
       "How_many_Landed_on_the_our_Page_and_clicked_on_a_button_and_started_filling_the_Form?                                          int64\n",
       "How_many_Landed_on_the_our_Page_and_clicked_on_a_button_and_started_filling_the_Form_and_Completed_and_submited_the_form?      int64\n",
       "dtype: object"
      ]
     },
     "execution_count": 10,
     "metadata": {},
     "output_type": "execute_result"
    }
   ],
   "source": [
    "data.dtypes"
   ]
  },
  {
   "cell_type": "markdown",
   "id": "515ad3f9",
   "metadata": {},
   "source": [
    "# Part 1 : DATA CLEANING "
   ]
  },
  {
   "cell_type": "markdown",
   "id": "e8f51e0b",
   "metadata": {},
   "source": [
    "i) Replaces the NA values with 0s in the data\n",
    "\n",
    "ii) In column ‘B’ replace Jan with 1, feb with 2, march with 3 and so on…\n",
    "\n",
    "iii) In column ‘E’ Replace “Came_From_Google” with “Google” and “Landed_on_the_page_Directly” with “Direct_traffic” \n"
   ]
  },
  {
   "cell_type": "code",
   "execution_count": 70,
   "id": "f57dd35f",
   "metadata": {
    "scrolled": true
   },
   "outputs": [
    {
     "data": {
      "text/plain": [
       "Year                                                                                                                         0\n",
       "Month                                                                                                                        0\n",
       "MobileWeb_or_Web                                                                                                             0\n",
       "Type_of_Customers?                                                                                                           0\n",
       "Where_Are_They_comming_from?                                                                                                 0\n",
       "Which_Place_in_India?                                                                                                        0\n",
       "How_many_Landed_on_our_Page?                                                                                                 0\n",
       "How_many_Landed_on_the_our_Page_and_clicked_on_a_button?                                                                     0\n",
       "How_many_Landed_on_the_our_Page_and_clicked_on_a_button_and_started_filling_the_Form?                                        0\n",
       "How_many_Landed_on_the_our_Page_and_clicked_on_a_button_and_started_filling_the_Form_and_Completed_and_submited_the_form?    0\n",
       "dtype: int64"
      ]
     },
     "execution_count": 70,
     "metadata": {},
     "output_type": "execute_result"
    }
   ],
   "source": [
    "# firstly we will check how many columns have null values and its count\n",
    "data.isnull().sum()"
   ]
  },
  {
   "cell_type": "code",
   "execution_count": 41,
   "id": "b9dc5655",
   "metadata": {},
   "outputs": [],
   "source": [
    "from time import strptime  # to convert month name to numeric value"
   ]
  },
  {
   "cell_type": "markdown",
   "id": "de7a464b",
   "metadata": {},
   "source": [
    "defining a function"
   ]
  },
  {
   "cell_type": "code",
   "execution_count": 123,
   "id": "5303a1b5",
   "metadata": {},
   "outputs": [],
   "source": [
    "def data_cleaning(col):\n",
    "    data.fillna(0,inplace=True)\n",
    "    if i=='Month':\n",
    "       data['Month'] = [strptime(str(x), '%m').tm_mon for x in data['Month']] \n",
    "    elif i=='Where_Are_They_comming_from?':\n",
    "        data['Where_Are_They_comming_from?']= data['Where_Are_They_comming_from?'].replace(['Came_From_Google','Landed_on_the_page_Directly'],['Google','Direct_traffic'])\n",
    "        \n",
    "        \n",
    "        "
   ]
  },
  {
   "cell_type": "code",
   "execution_count": 124,
   "id": "dbdf634d",
   "metadata": {},
   "outputs": [],
   "source": [
    "for i in ['Month','Where_Are_They_comming_from?', 'How_many_Landed_on_our_Page?','How_many_Landed_on_the_our_Page_and_clicked_on_a_button?']:\n",
    "    data_cleaning(i)     # function call\n",
    "             "
   ]
  },
  {
   "cell_type": "markdown",
   "id": "a42e592c",
   "metadata": {},
   "source": [
    "# Part 2: DESCRIPTIVE STATISTICS\n"
   ]
  },
  {
   "cell_type": "code",
   "execution_count": 72,
   "id": "bf5f2060",
   "metadata": {},
   "outputs": [
    {
     "data": {
      "text/plain": [
       "Index(['Year', 'Month', 'MobileWeb_or_Web', 'Type_of_Customers?',\n",
       "       'Where_Are_They_comming_from?', 'Which_Place_in_India?',\n",
       "       'How_many_Landed_on_our_Page?',\n",
       "       'How_many_Landed_on_the_our_Page_and_clicked_on_a_button?',\n",
       "       'How_many_Landed_on_the_our_Page_and_clicked_on_a_button_and_started_filling_the_Form?',\n",
       "       'How_many_Landed_on_the_our_Page_and_clicked_on_a_button_and_started_filling_the_Form_and_Completed_and_submited_the_form?'],\n",
       "      dtype='object')"
      ]
     },
     "execution_count": 72,
     "metadata": {},
     "output_type": "execute_result"
    }
   ],
   "source": [
    "data.columns"
   ]
  },
  {
   "cell_type": "code",
   "execution_count": 356,
   "id": "72e2f6e6",
   "metadata": {},
   "outputs": [],
   "source": [
    "def descriptive_stats(col):  \n",
    "    if col in ['Year', 'Month', 'How_many_Landed_on_our_Page?',\n",
    "        'How_many_Landed_on_the_our_Page_and_clicked_on_a_button?',\n",
    "        'How_many_Landed_on_the_our_Page_and_clicked_on_a_button_and_started_filling_the_Form?',\n",
    "        'How_many_Landed_on_the_our_Page_and_clicked_on_a_button_and_started_filling_the_Form_and_Completed_and_submited_the_form?']:\n",
    "        \n",
    "        print(data[col].describe(),'\\n')\n",
    "    else:\n",
    "        print(data[col].unique(), ': ', data[col].dtypes)\n",
    "        \n",
    "        \n",
    "        \n"
   ]
  },
  {
   "cell_type": "code",
   "execution_count": 358,
   "id": "0c5273b9",
   "metadata": {},
   "outputs": [
    {
     "name": "stdout",
     "output_type": "stream",
     "text": [
      "count    2160.000000\n",
      "mean     2020.000000\n",
      "std         0.816686\n",
      "min      2019.000000\n",
      "25%      2019.000000\n",
      "50%      2020.000000\n",
      "75%      2021.000000\n",
      "max      2021.000000\n",
      "Name: Year, dtype: float64 \n",
      "\n",
      "count    2160.000000\n",
      "mean        6.500000\n",
      "std         3.452852\n",
      "min         1.000000\n",
      "25%         3.750000\n",
      "50%         6.500000\n",
      "75%         9.250000\n",
      "max        12.000000\n",
      "Name: Month, dtype: float64 \n",
      "\n",
      "count    2.160000e+03\n",
      "mean     3.922474e+05\n",
      "std      9.555773e+05\n",
      "min      0.000000e+00\n",
      "25%      0.000000e+00\n",
      "50%      1.228350e+04\n",
      "75%      3.816422e+05\n",
      "max      1.127413e+07\n",
      "Name: How_many_Landed_on_our_Page?, dtype: float64 \n",
      "\n",
      "count    2.160000e+03\n",
      "mean     1.792281e+05\n",
      "std      3.951562e+05\n",
      "min      0.000000e+00\n",
      "25%      0.000000e+00\n",
      "50%      4.212500e+03\n",
      "75%      1.730452e+05\n",
      "max      4.079301e+06\n",
      "Name: How_many_Landed_on_the_our_Page_and_clicked_on_a_button?, dtype: float64 \n",
      "\n",
      "count    2.160000e+03\n",
      "mean     1.510725e+05\n",
      "std      2.353538e+05\n",
      "min      3.761000e+03\n",
      "25%      3.360800e+04\n",
      "50%      7.064950e+04\n",
      "75%      1.659590e+05\n",
      "max      3.022858e+06\n",
      "Name: How_many_Landed_on_the_our_Page_and_clicked_on_a_button_and_started_filling_the_Form?, dtype: float64 \n",
      "\n",
      "count    2.160000e+03\n",
      "mean     5.922129e+04\n",
      "std      8.646564e+04\n",
      "min      7.660000e+02\n",
      "25%      1.157725e+04\n",
      "50%      2.700450e+04\n",
      "75%      7.185350e+04\n",
      "max      1.251258e+06\n",
      "Name: How_many_Landed_on_the_our_Page_and_clicked_on_a_button_and_started_filling_the_Form_and_Completed_and_submited_the_form?, dtype: float64 \n",
      "\n",
      "['Desktop_Website' 'Mobile_website'] :  object\n",
      "['Existing_Customer' 'New_Customer'] :  object\n",
      "['Google' 'Direct_traffic' 'Unidentified_Sources'] :  object\n",
      "['Bangalore' 'Chennai' 'Dehradun' 'Indore' 'Pune'] :  object\n"
     ]
    }
   ],
   "source": [
    "for i in ['Year', 'Month', 'How_many_Landed_on_our_Page?',\n",
    "       'How_many_Landed_on_the_our_Page_and_clicked_on_a_button?',\n",
    "       'How_many_Landed_on_the_our_Page_and_clicked_on_a_button_and_started_filling_the_Form?',\n",
    "       'How_many_Landed_on_the_our_Page_and_clicked_on_a_button_and_started_filling_the_Form_and_Completed_and_submited_the_form?']:\n",
    "    descriptive_stats(i)\n",
    "for j in ['MobileWeb_or_Web', 'Type_of_Customers?',\n",
    "       'Where_Are_They_comming_from?', 'Which_Place_in_India?']:\n",
    "    descriptive_stats(j)\n",
    "    "
   ]
  },
  {
   "cell_type": "markdown",
   "id": "3001351c",
   "metadata": {},
   "source": [
    "# Part 3: PRESCRIPTIVE STATISTICS"
   ]
  },
  {
   "cell_type": "code",
   "execution_count": 156,
   "id": "d58b0ae9",
   "metadata": {},
   "outputs": [
    {
     "data": {
      "text/plain": [
       "Which_Place_in_India?                 Pune\n",
       "How_many_Landed_on_our_Page?    11274131.0\n",
       "dtype: object"
      ]
     },
     "execution_count": 156,
     "metadata": {},
     "output_type": "execute_result"
    }
   ],
   "source": [
    "data[['Which_Place_in_India?','How_many_Landed_on_our_Page?']].max()"
   ]
  },
  {
   "cell_type": "code",
   "execution_count": 167,
   "id": "b1967e34",
   "metadata": {},
   "outputs": [],
   "source": [
    "data['div_data']=data['How_many_Landed_on_the_our_Page_and_clicked_on_a_button_and_started_filling_the_Form_and_Completed_and_submited_the_form?']/data['How_many_Landed_on_our_Page?']"
   ]
  },
  {
   "cell_type": "code",
   "execution_count": 168,
   "id": "5d3e440e",
   "metadata": {},
   "outputs": [
    {
     "data": {
      "text/plain": [
       "div_data                  inf\n",
       "Which_Place_in_India?    Pune\n",
       "dtype: object"
      ]
     },
     "execution_count": 168,
     "metadata": {},
     "output_type": "execute_result"
    }
   ],
   "source": [
    "data[['div_data','Which_Place_in_India?']].max()"
   ]
  },
  {
   "cell_type": "markdown",
   "id": "3827b8aa",
   "metadata": {},
   "source": [
    "# Part 4: SIMPLE MACHINE LEARNING QUESTIONS"
   ]
  },
  {
   "cell_type": "code",
   "execution_count": 209,
   "id": "d44fa190",
   "metadata": {},
   "outputs": [],
   "source": [
    "X= data.drop(['How_many_Landed_on_the_our_Page_and_clicked_on_a_button_and_started_filling_the_Form_and_Completed_and_submited_the_form?','MobileWeb_or_Web', 'Type_of_Customers?',\n",
    "       'Where_Are_They_comming_from?', 'Which_Place_in_India?','div_data'],axis=1)"
   ]
  },
  {
   "cell_type": "code",
   "execution_count": 383,
   "id": "b727dbbb",
   "metadata": {},
   "outputs": [
    {
     "data": {
      "text/html": [
       "<div>\n",
       "<style scoped>\n",
       "    .dataframe tbody tr th:only-of-type {\n",
       "        vertical-align: middle;\n",
       "    }\n",
       "\n",
       "    .dataframe tbody tr th {\n",
       "        vertical-align: top;\n",
       "    }\n",
       "\n",
       "    .dataframe thead th {\n",
       "        text-align: right;\n",
       "    }\n",
       "</style>\n",
       "<table border=\"1\" class=\"dataframe\">\n",
       "  <thead>\n",
       "    <tr style=\"text-align: right;\">\n",
       "      <th></th>\n",
       "      <th>Year</th>\n",
       "      <th>Month</th>\n",
       "      <th>How_many_Landed_on_our_Page?</th>\n",
       "      <th>How_many_Landed_on_the_our_Page_and_clicked_on_a_button?</th>\n",
       "      <th>How_many_Landed_on_the_our_Page_and_clicked_on_a_button_and_started_filling_the_Form?</th>\n",
       "    </tr>\n",
       "  </thead>\n",
       "  <tbody>\n",
       "    <tr>\n",
       "      <th>720</th>\n",
       "      <td>2020</td>\n",
       "      <td>1</td>\n",
       "      <td>0.0</td>\n",
       "      <td>0.0</td>\n",
       "      <td>51753</td>\n",
       "    </tr>\n",
       "    <tr>\n",
       "      <th>721</th>\n",
       "      <td>2020</td>\n",
       "      <td>1</td>\n",
       "      <td>0.0</td>\n",
       "      <td>0.0</td>\n",
       "      <td>112924</td>\n",
       "    </tr>\n",
       "    <tr>\n",
       "      <th>722</th>\n",
       "      <td>2020</td>\n",
       "      <td>1</td>\n",
       "      <td>0.0</td>\n",
       "      <td>0.0</td>\n",
       "      <td>44096</td>\n",
       "    </tr>\n",
       "    <tr>\n",
       "      <th>723</th>\n",
       "      <td>2020</td>\n",
       "      <td>1</td>\n",
       "      <td>0.0</td>\n",
       "      <td>0.0</td>\n",
       "      <td>134562</td>\n",
       "    </tr>\n",
       "    <tr>\n",
       "      <th>724</th>\n",
       "      <td>2020</td>\n",
       "      <td>1</td>\n",
       "      <td>0.0</td>\n",
       "      <td>0.0</td>\n",
       "      <td>189015</td>\n",
       "    </tr>\n",
       "    <tr>\n",
       "      <th>...</th>\n",
       "      <td>...</td>\n",
       "      <td>...</td>\n",
       "      <td>...</td>\n",
       "      <td>...</td>\n",
       "      <td>...</td>\n",
       "    </tr>\n",
       "    <tr>\n",
       "      <th>1435</th>\n",
       "      <td>2020</td>\n",
       "      <td>12</td>\n",
       "      <td>66917.0</td>\n",
       "      <td>23132.0</td>\n",
       "      <td>6618</td>\n",
       "    </tr>\n",
       "    <tr>\n",
       "      <th>1436</th>\n",
       "      <td>2020</td>\n",
       "      <td>12</td>\n",
       "      <td>117097.0</td>\n",
       "      <td>58525.0</td>\n",
       "      <td>24731</td>\n",
       "    </tr>\n",
       "    <tr>\n",
       "      <th>1437</th>\n",
       "      <td>2020</td>\n",
       "      <td>12</td>\n",
       "      <td>46111.0</td>\n",
       "      <td>25422.0</td>\n",
       "      <td>5697</td>\n",
       "    </tr>\n",
       "    <tr>\n",
       "      <th>1438</th>\n",
       "      <td>2020</td>\n",
       "      <td>12</td>\n",
       "      <td>466715.0</td>\n",
       "      <td>207872.0</td>\n",
       "      <td>107705</td>\n",
       "    </tr>\n",
       "    <tr>\n",
       "      <th>1439</th>\n",
       "      <td>2020</td>\n",
       "      <td>12</td>\n",
       "      <td>510775.0</td>\n",
       "      <td>101910.0</td>\n",
       "      <td>47924</td>\n",
       "    </tr>\n",
       "  </tbody>\n",
       "</table>\n",
       "<p>720 rows × 5 columns</p>\n",
       "</div>"
      ],
      "text/plain": [
       "      Year  Month  How_many_Landed_on_our_Page?  \\\n",
       "720   2020      1                           0.0   \n",
       "721   2020      1                           0.0   \n",
       "722   2020      1                           0.0   \n",
       "723   2020      1                           0.0   \n",
       "724   2020      1                           0.0   \n",
       "...    ...    ...                           ...   \n",
       "1435  2020     12                       66917.0   \n",
       "1436  2020     12                      117097.0   \n",
       "1437  2020     12                       46111.0   \n",
       "1438  2020     12                      466715.0   \n",
       "1439  2020     12                      510775.0   \n",
       "\n",
       "      How_many_Landed_on_the_our_Page_and_clicked_on_a_button?  \\\n",
       "720                                                 0.0          \n",
       "721                                                 0.0          \n",
       "722                                                 0.0          \n",
       "723                                                 0.0          \n",
       "724                                                 0.0          \n",
       "...                                                 ...          \n",
       "1435                                            23132.0          \n",
       "1436                                            58525.0          \n",
       "1437                                            25422.0          \n",
       "1438                                           207872.0          \n",
       "1439                                           101910.0          \n",
       "\n",
       "      How_many_Landed_on_the_our_Page_and_clicked_on_a_button_and_started_filling_the_Form?  \n",
       "720                                               51753                                      \n",
       "721                                              112924                                      \n",
       "722                                               44096                                      \n",
       "723                                              134562                                      \n",
       "724                                              189015                                      \n",
       "...                                                 ...                                      \n",
       "1435                                               6618                                      \n",
       "1436                                              24731                                      \n",
       "1437                                               5697                                      \n",
       "1438                                             107705                                      \n",
       "1439                                              47924                                      \n",
       "\n",
       "[720 rows x 5 columns]"
      ]
     },
     "execution_count": 383,
     "metadata": {},
     "output_type": "execute_result"
    }
   ],
   "source": [
    "x=X[720:1440]\n",
    "# data1=data[2019< data['Year'] ]\n",
    "# data1\n",
    "x"
   ]
  },
  {
   "cell_type": "code",
   "execution_count": 384,
   "id": "7fbea59c",
   "metadata": {},
   "outputs": [
    {
     "data": {
      "text/html": [
       "<div>\n",
       "<style scoped>\n",
       "    .dataframe tbody tr th:only-of-type {\n",
       "        vertical-align: middle;\n",
       "    }\n",
       "\n",
       "    .dataframe tbody tr th {\n",
       "        vertical-align: top;\n",
       "    }\n",
       "\n",
       "    .dataframe thead th {\n",
       "        text-align: right;\n",
       "    }\n",
       "</style>\n",
       "<table border=\"1\" class=\"dataframe\">\n",
       "  <thead>\n",
       "    <tr style=\"text-align: right;\">\n",
       "      <th></th>\n",
       "      <th>Year</th>\n",
       "      <th>Month</th>\n",
       "      <th>How_many_Landed_on_our_Page?</th>\n",
       "      <th>How_many_Landed_on_the_our_Page_and_clicked_on_a_button?</th>\n",
       "      <th>How_many_Landed_on_the_our_Page_and_clicked_on_a_button_and_started_filling_the_Form?</th>\n",
       "    </tr>\n",
       "  </thead>\n",
       "  <tbody>\n",
       "    <tr>\n",
       "      <th>720</th>\n",
       "      <td>2020</td>\n",
       "      <td>1</td>\n",
       "      <td>0.0</td>\n",
       "      <td>0.0</td>\n",
       "      <td>51753</td>\n",
       "    </tr>\n",
       "    <tr>\n",
       "      <th>721</th>\n",
       "      <td>2020</td>\n",
       "      <td>1</td>\n",
       "      <td>0.0</td>\n",
       "      <td>0.0</td>\n",
       "      <td>112924</td>\n",
       "    </tr>\n",
       "    <tr>\n",
       "      <th>722</th>\n",
       "      <td>2020</td>\n",
       "      <td>1</td>\n",
       "      <td>0.0</td>\n",
       "      <td>0.0</td>\n",
       "      <td>44096</td>\n",
       "    </tr>\n",
       "    <tr>\n",
       "      <th>723</th>\n",
       "      <td>2020</td>\n",
       "      <td>1</td>\n",
       "      <td>0.0</td>\n",
       "      <td>0.0</td>\n",
       "      <td>134562</td>\n",
       "    </tr>\n",
       "    <tr>\n",
       "      <th>724</th>\n",
       "      <td>2020</td>\n",
       "      <td>1</td>\n",
       "      <td>0.0</td>\n",
       "      <td>0.0</td>\n",
       "      <td>189015</td>\n",
       "    </tr>\n",
       "    <tr>\n",
       "      <th>...</th>\n",
       "      <td>...</td>\n",
       "      <td>...</td>\n",
       "      <td>...</td>\n",
       "      <td>...</td>\n",
       "      <td>...</td>\n",
       "    </tr>\n",
       "    <tr>\n",
       "      <th>1435</th>\n",
       "      <td>2020</td>\n",
       "      <td>12</td>\n",
       "      <td>66917.0</td>\n",
       "      <td>23132.0</td>\n",
       "      <td>6618</td>\n",
       "    </tr>\n",
       "    <tr>\n",
       "      <th>1436</th>\n",
       "      <td>2020</td>\n",
       "      <td>12</td>\n",
       "      <td>117097.0</td>\n",
       "      <td>58525.0</td>\n",
       "      <td>24731</td>\n",
       "    </tr>\n",
       "    <tr>\n",
       "      <th>1437</th>\n",
       "      <td>2020</td>\n",
       "      <td>12</td>\n",
       "      <td>46111.0</td>\n",
       "      <td>25422.0</td>\n",
       "      <td>5697</td>\n",
       "    </tr>\n",
       "    <tr>\n",
       "      <th>1438</th>\n",
       "      <td>2020</td>\n",
       "      <td>12</td>\n",
       "      <td>466715.0</td>\n",
       "      <td>207872.0</td>\n",
       "      <td>107705</td>\n",
       "    </tr>\n",
       "    <tr>\n",
       "      <th>1439</th>\n",
       "      <td>2020</td>\n",
       "      <td>12</td>\n",
       "      <td>510775.0</td>\n",
       "      <td>101910.0</td>\n",
       "      <td>47924</td>\n",
       "    </tr>\n",
       "  </tbody>\n",
       "</table>\n",
       "<p>720 rows × 5 columns</p>\n",
       "</div>"
      ],
      "text/plain": [
       "      Year  Month  How_many_Landed_on_our_Page?  \\\n",
       "720   2020      1                           0.0   \n",
       "721   2020      1                           0.0   \n",
       "722   2020      1                           0.0   \n",
       "723   2020      1                           0.0   \n",
       "724   2020      1                           0.0   \n",
       "...    ...    ...                           ...   \n",
       "1435  2020     12                       66917.0   \n",
       "1436  2020     12                      117097.0   \n",
       "1437  2020     12                       46111.0   \n",
       "1438  2020     12                      466715.0   \n",
       "1439  2020     12                      510775.0   \n",
       "\n",
       "      How_many_Landed_on_the_our_Page_and_clicked_on_a_button?  \\\n",
       "720                                                 0.0          \n",
       "721                                                 0.0          \n",
       "722                                                 0.0          \n",
       "723                                                 0.0          \n",
       "724                                                 0.0          \n",
       "...                                                 ...          \n",
       "1435                                            23132.0          \n",
       "1436                                            58525.0          \n",
       "1437                                            25422.0          \n",
       "1438                                           207872.0          \n",
       "1439                                           101910.0          \n",
       "\n",
       "      How_many_Landed_on_the_our_Page_and_clicked_on_a_button_and_started_filling_the_Form?  \n",
       "720                                               51753                                      \n",
       "721                                              112924                                      \n",
       "722                                               44096                                      \n",
       "723                                              134562                                      \n",
       "724                                              189015                                      \n",
       "...                                                 ...                                      \n",
       "1435                                               6618                                      \n",
       "1436                                              24731                                      \n",
       "1437                                               5697                                      \n",
       "1438                                             107705                                      \n",
       "1439                                              47924                                      \n",
       "\n",
       "[720 rows x 5 columns]"
      ]
     },
     "execution_count": 384,
     "metadata": {},
     "output_type": "execute_result"
    }
   ],
   "source": [
    "x"
   ]
  },
  {
   "cell_type": "code",
   "execution_count": 213,
   "id": "b437f898",
   "metadata": {},
   "outputs": [
    {
     "data": {
      "text/plain": [
       "(718, 5)"
      ]
     },
     "execution_count": 213,
     "metadata": {},
     "output_type": "execute_result"
    }
   ],
   "source": [
    "x.shape"
   ]
  },
  {
   "cell_type": "code",
   "execution_count": 215,
   "id": "576bbe21",
   "metadata": {},
   "outputs": [],
   "source": [
    "Y=data['How_many_Landed_on_the_our_Page_and_clicked_on_a_button_and_started_filling_the_Form_and_Completed_and_submited_the_form?']"
   ]
  },
  {
   "cell_type": "code",
   "execution_count": 385,
   "id": "104a511e",
   "metadata": {},
   "outputs": [],
   "source": [
    "y=Y[720:1440]"
   ]
  },
  {
   "cell_type": "code",
   "execution_count": 396,
   "id": "19506298",
   "metadata": {},
   "outputs": [],
   "source": [
    "def pred_future(i,j):\n",
    "   # X_train,y_train= train_test_split(x,y,random_state=0)\n",
    "    model_linear_reg= LinearRegression()\n",
    "    model=model_linear_reg.fit(X_train,y_train)\n",
    "    y_pred= model.predict(X_test)\n",
    "    print('Prediction for the year 2021 :',y_pred)\n",
    "    y_test, y_pred = np.array(y_test), np.array(y_pred)\n",
    "    mape = np.mean(np.abs((y_test - y_pred) / y_test))\n",
    "    print('\\n')\n",
    "    print(' MAPE of prediction for the year 2021 is : ',mape)"
   ]
  },
  {
   "cell_type": "code",
   "execution_count": 395,
   "id": "d0e26bc1",
   "metadata": {},
   "outputs": [
    {
     "name": "stdout",
     "output_type": "stream",
     "text": [
      "Prediction for the year 2021 : [157870.60423691  15996.62356886  31891.32741465  47591.64971105\n",
      "  15857.95312842  70184.88850465 116028.38935887  21020.22147666\n",
      "  85652.83147938  19705.96340356  21853.85115442  29894.09220956\n",
      "  53900.07843798  12626.12951456  18358.92452512  28798.73991091\n",
      "  41586.88244051  51589.44487827  83294.65926662  27566.72938891\n",
      "  26634.68894111  24250.44458708  59871.76669058 137602.45979583\n",
      "  92774.76703001  45516.17491809  64247.66293088  22819.84859073\n",
      "   8314.4345259   41142.59215479  44641.37702492  27228.11616505\n",
      "  19567.04929844  50191.88832587  19544.90639535  58445.61211005\n",
      "  44702.63557088  12656.44631314 283347.985925    32726.94707106\n",
      " 133429.7999046    8965.18482601 108628.11426792  57718.72270232\n",
      "  55339.43677489  50272.26836443  75463.92513127  10477.92123004\n",
      "  15952.89201851  31657.11937711  13382.17349161 138926.42952562\n",
      " 117053.86943284   4992.25891761  15161.35505725  10294.68600224\n",
      "  30710.1588703    6760.72283666  38010.98382698  26833.1340105\n",
      "  22782.83263079   9281.06585681  18743.09883153  62091.29747423\n",
      " 124149.90190547  51118.75474274  21315.27812773  24152.24259124\n",
      "  21885.71149443  36457.17570745  37377.46807433  21611.2608059\n",
      " 123358.182417    14496.98342932  38281.13880748  68427.04427301\n",
      "  31121.40772562  47187.6295308   43213.85792828  16987.10451601\n",
      "  24729.16151324  14164.4306614  157561.60125381  51599.29029828\n",
      "  20709.12874743  53710.55821524  76887.09737517 356350.31251353\n",
      "  26558.65520357  18349.98385977  50725.96399594 240198.7390958\n",
      "  14858.74793632 256528.38472724  28359.73963162  29034.44735254\n",
      "  17062.48980361  17659.71103072  37609.4937314   57984.55810821\n",
      " 244785.58927943  82273.06518096  26607.72019998  13885.93470753\n",
      "  23728.21183667  76947.78444831  91808.12312185  44237.41169683\n",
      "  81316.72401285   6663.59054306  40878.78744073  10574.098316\n",
      " 172715.71562192 109531.76303053  46729.73745939 131914.47394014\n",
      " 143211.76185761  25380.12710677  39227.35416792  74485.86311282\n",
      "  58092.50094066  12188.60701586  21307.60933793  52225.54538012\n",
      "  22432.46379172 347671.68481526  14120.55115432  25215.40003611\n",
      "  57538.5374579   54613.83238275  35251.74116416  55582.85848651\n",
      "  21415.71183098  18657.09259377  61414.0490585   47640.98257144\n",
      "  43381.67916291  38248.64913057  52146.35640794  31733.14060249\n",
      "  43073.65844833  36388.02210021  15274.24499345  32690.83193812\n",
      "  13375.44534231  36044.27010718  39666.9243128   22136.67151567\n",
      "  40018.69663798  15689.54126319 186569.0695874  113432.66841382\n",
      "  11339.65478112   9670.1843212   58385.81814696  52321.32206928\n",
      "  44047.65650199  19302.59802263  25159.87896549  11876.56663604\n",
      "  18546.80692131  14892.36614453  54456.29631876  11645.31075885\n",
      "  20692.69994845  33072.01587764  21147.74224097  10363.98608841\n",
      "  58654.99791836 209417.139544    94188.80861975  29882.85879631\n",
      "   7280.55158437  36927.23766555   9774.82954819  64407.32562485\n",
      "  46029.39960312  35155.5211002   24954.2824174  200863.13591038]\n",
      "\n",
      "\n",
      " MAPE of prediction for the year 2021 is :  0.8371060592406072\n"
     ]
    }
   ],
   "source": [
    "pred_future(x,y)\n"
   ]
  },
  {
   "cell_type": "code",
   "execution_count": 393,
   "id": "4cb268fe",
   "metadata": {},
   "outputs": [
    {
     "data": {
      "text/plain": [
       "216"
      ]
     },
     "execution_count": 393,
     "metadata": {},
     "output_type": "execute_result"
    }
   ],
   "source": [
    "len(y_pred)"
   ]
  },
  {
   "cell_type": "markdown",
   "id": "25b187cc",
   "metadata": {},
   "source": [
    "We tested the accuracy of our model by passing in our predictions and the actual values"
   ]
  },
  {
   "cell_type": "code",
   "execution_count": 362,
   "id": "aa1ca51c",
   "metadata": {},
   "outputs": [],
   "source": [
    "#data[data['Year']<2021]"
   ]
  },
  {
   "cell_type": "markdown",
   "id": "8de004ec",
   "metadata": {},
   "source": [
    "# Part 5: VISUALIZATION\n"
   ]
  },
  {
   "cell_type": "markdown",
   "id": "f9896b6e",
   "metadata": {},
   "source": [
    "1 : \n",
    "A line graph for “How_many_Landed_on_the_our_Page_and_clicked_on_a_button?” for the different “Which_Place_in_India?” over the months of the year 2019 & 2020.\n"
   ]
  },
  {
   "cell_type": "code",
   "execution_count": 369,
   "id": "7fe7f41f",
   "metadata": {},
   "outputs": [
    {
     "data": {
      "text/plain": [
       "<AxesSubplot:xlabel='How_many_Landed_on_the_our_Page_and_clicked_on_a_button?', ylabel='Which_Place_in_India?'>"
      ]
     },
     "execution_count": 369,
     "metadata": {},
     "output_type": "execute_result"
    },
    {
     "data": {
      "image/png": "[encoded data removed]",
      "text/plain": [
       "<Figure size 720x1296 with 1 Axes>"
      ]
     },
     "metadata": {
      "needs_background": "light"
     },
     "output_type": "display_data"
    }
   ],
   "source": [
    "plt.figure(figsize=(10,18))\n",
    "sns.lineplot(x='How_many_Landed_on_the_our_Page_and_clicked_on_a_button?', y=\"Which_Place_in_India?\", data=data[data['Year']<2021], hue='Year',palette='rainbow')"
   ]
  },
  {
   "cell_type": "markdown",
   "id": "d07bf349",
   "metadata": {},
   "source": [
    "."
   ]
  },
  {
   "cell_type": "markdown",
   "id": "0239d2c1",
   "metadata": {},
   "source": [
    "2 : \n",
    "A line graph of the actual and projected number of “How_many_Landed_on_the_our_Page_and_clicked_on_a_button_and_started_filling_the_Form_and_Completed_and_submited_the_form?” for the months of the year 2021 & 2022\n"
   ]
  },
  {
   "cell_type": "code",
   "execution_count": 330,
   "id": "4374b20d",
   "metadata": {},
   "outputs": [],
   "source": [
    "# df= pd.DataFrame({'Actual': y_test,'predict': y_pred })"
   ]
  },
  {
   "cell_type": "code",
   "execution_count": 331,
   "id": "289c40b2",
   "metadata": {},
   "outputs": [],
   "source": [
    "#sns.lineplot(x='Actual',y='predict',data=df)"
   ]
  },
  {
   "cell_type": "code",
   "execution_count": null,
   "id": "694f4072",
   "metadata": {},
   "outputs": [],
   "source": []
  },
  {
   "cell_type": "markdown",
   "id": "f37cc54a",
   "metadata": {},
   "source": [
    "# Part 6: About the Previous projects\n"
   ]
  },
  {
   "cell_type": "markdown",
   "id": "83fb3f3e",
   "metadata": {},
   "source": [
    "I have been constantly learning and implimenting the Data Science and Machine Learning concepts . I've made several projects on the same which helped me understanding this domain in more detail.\n",
    "I have done Prutor(IIT Kanpur) training and Internship course in DATA SCIENCE with PYTHON. I also have done UDEMY COURSE which has helped me understanding several libraries (Pandas,Matplotlib,Numpy,Seaborn,SkLearn, NLP basics etc) in details with its implimentations.\n",
    "\n",
    "Below are the list of projects I have built during learning process :\n",
    "\n",
    "1].  AIRLINE FLIGHT FARE PREDICTION :\n",
    "\n",
    "2].  PASSWORD STRENGTH PREDICTION  :\n",
    "  https://drive.google.com/file/d/1Z12TJVLg7glB5RYsv2D9ePtI7_HKcLgr/view?usp=sharing\n",
    "    \n",
    "    Project Description : I have used TF-IDF in NLP to predict the strength of password .In this project i firstly converted                           the data into array form so that dependent and independent variables can be used effectively to get                              accurate result.\n",
    "\n",
    "3].  BREAST CANCER DETECTION :\n",
    "\n",
    "4].  PREDICT STOCK PRICES USING TIME SERIES ANALYSIS :   (currently working)\n"
   ]
  },
  {
   "cell_type": "markdown",
   "id": "14f74311",
   "metadata": {},
   "source": [
    "# Part 7 : Time management\n"
   ]
  },
  {
   "cell_type": "markdown",
   "id": "a005b26f",
   "metadata": {},
   "source": [
    " I have this habit of managing time since i was in 9th class . For me it is very necessary to have balance of time to do all works and extra activities .This skill will decide if we will be successful or not . So, if I got selected, I will manage my time by being present in the moment ,have proper plan for managing my time. like for my college assignments i would manage them in between gaps and i will try to complete any work as soon as possible so that i have some free time for new work aswell."
   ]
  },
  {
   "cell_type": "markdown",
   "id": "f7b3107c",
   "metadata": {},
   "source": [
    "THANKYOU "
   ]
  }
 ],
 "metadata": {
  "kernelspec": {
   "display_name": "Python 3 (ipykernel)",
   "language": "python",
   "name": "python3"
  },
  "language_info": {
   "codemirror_mode": {
    "name": "ipython",
    "version": 3
   },
   "file_extension": ".py",
   "mimetype": "text/x-python",
   "name": "python",
   "nbconvert_exporter": "python",
   "pygments_lexer": "ipython3",
   "version": "3.9.0"
  }
 },
 "nbformat": 4,
 "nbformat_minor": 5
}
